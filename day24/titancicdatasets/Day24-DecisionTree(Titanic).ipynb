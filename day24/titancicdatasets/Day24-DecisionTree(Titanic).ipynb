{
 "cells": [
  {
   "cell_type": "code",
   "execution_count": 1,
   "metadata": {},
   "outputs": [],
   "source": [
    "import pandas as pd\n",
    "import numpy as np\n",
    "from sklearn import tree\n",
    "from sklearn import preprocessing\n",
    "titanic_train=pd.read_csv(\"train.csv\")\n"
   ]
  },
  {
   "cell_type": "code",
   "execution_count": 2,
   "metadata": {},
   "outputs": [
    {
     "data": {
      "text/plain": [
       "32.69985376827896"
      ]
     },
     "execution_count": 2,
     "metadata": {},
     "output_type": "execute_result"
    }
   ],
   "source": [
    "titanic_train[\"Age\"].mean()"
   ]
  },
  {
   "cell_type": "markdown",
   "metadata": {},
   "source": [
    "To fill the missing values with the mean  "
   ]
  },
  {
   "cell_type": "code",
   "execution_count": null,
   "metadata": {},
   "outputs": [],
   "source": [
    "new_age_var=np.where(titanic_train[\"Age\"].isnull(),32,titanic_train[\"Age\"])\n",
    "titanic_train[\"Age\"]=new_age_var"
   ]
  },
  {
   "cell_type": "markdown",
   "metadata": {},
   "source": [
    "To convert categorical value in to numerical value"
   ]
  },
  {
   "cell_type": "code",
   "execution_count": 5,
   "metadata": {},
   "outputs": [],
   "source": [
    "label_encoder=preprocessing.LabelEncoder()\n",
    "encoded_sex=label_encoder.fit_transform(titanic_train[\"Sex\"])"
   ]
  },
  {
   "cell_type": "code",
   "execution_count": 11,
   "metadata": {},
   "outputs": [
    {
     "data": {
      "text/plain": [
       "DecisionTreeClassifier(ccp_alpha=0.0, class_weight=None, criterion='gini',\n",
       "                       max_depth=8, max_features=None, max_leaf_nodes=None,\n",
       "                       min_impurity_decrease=0.0, min_impurity_split=None,\n",
       "                       min_samples_leaf=1, min_samples_split=2,\n",
       "                       min_weight_fraction_leaf=0.0, presort='deprecated',\n",
       "                       random_state=None, splitter='best')"
      ]
     },
     "execution_count": 11,
     "metadata": {},
     "output_type": "execute_result"
    }
   ],
   "source": [
    "tree_model=tree.DecisionTreeClassifier()\n",
    "predictors=pd.DataFrame([encoded_sex,titanic_train[\"Age\"],titanic_train[\"Fare\"]]).T\n",
    "tree_model=tree.DecisionTreeClassifier(max_depth=8)\n",
    "tree_model.fit(X=predictors,y=titanic_train[\"Survived\"])"
   ]
  },
  {
   "cell_type": "code",
   "execution_count": 12,
   "metadata": {},
   "outputs": [],
   "source": [
    "with open(\"Dtree.dot\",'w') as f:\n",
    "    f=tree.export_graphviz(tree_model,feature_names=[\"Sex\",\"Age\",\"Fare\"],out_file=f)"
   ]
  },
  {
   "cell_type": "markdown",
   "metadata": {},
   "source": [
    "Testing"
   ]
  },
  {
   "cell_type": "code",
   "execution_count": 14,
   "metadata": {},
   "outputs": [
    {
     "data": {
      "text/plain": [
       "33.23741007194245"
      ]
     },
     "execution_count": 14,
     "metadata": {},
     "output_type": "execute_result"
    }
   ],
   "source": [
    "titanic_test=pd.read_csv(\"test.csv\")\n",
    "titanic_test[\"Age\"].mean()\n"
   ]
  },
  {
   "cell_type": "code",
   "execution_count": 19,
   "metadata": {},
   "outputs": [],
   "source": [
    "new_age_var=np.where(titanic_test[\"Age\"].isnull(),33,titanic_test[\"Age\"])\n",
    "titanic_test[\"Age\"]=new_age_var\n",
    "encoded_sex_test=label_encoder.fit_transform(titanic_test[\"Sex\"])\n"
   ]
  },
  {
   "cell_type": "code",
   "execution_count": 20,
   "metadata": {},
   "outputs": [],
   "source": [
    "test_features=pd.DataFrame([encoded_sex_test,titanic_test[\"Age\"],titanic_test[\"Fare\"]]).T"
   ]
  },
  {
   "cell_type": "code",
   "execution_count": 24,
   "metadata": {},
   "outputs": [],
   "source": [
    "test_preds=tree_model.predict(X=test_features)\n",
    "predicted_output=pd.DataFrame({\"PassengerId\":titanic_test[\"PassengerId\"],\"Survived\":test_preds})\n",
    "predicted_output.to_csv(\"Output.csv\",index=False);"
   ]
  }
 ],
 "metadata": {
  "kernelspec": {
   "display_name": "Python 3",
   "language": "python",
   "name": "python3"
  },
  "language_info": {
   "codemirror_mode": {
    "name": "ipython",
    "version": 3
   },
   "file_extension": ".py",
   "mimetype": "text/x-python",
   "name": "python",
   "nbconvert_exporter": "python",
   "pygments_lexer": "ipython3",
   "version": "3.7.6"
  }
 },
 "nbformat": 4,
 "nbformat_minor": 4
}
