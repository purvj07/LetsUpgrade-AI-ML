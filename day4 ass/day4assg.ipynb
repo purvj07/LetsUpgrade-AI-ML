{
 "cells": [
  {
   "cell_type": "markdown",
   "metadata": {},
   "source": [
    "\n",
    "Question 1 :\n",
    "Research on whether addition, subtraction, multiplication, division, floor division and modulo\n",
    "operations be performed on complex numbers. Based on your study, implement a Python\n",
    "program to demonstrate these operations.\n",
    "Question 2 :\n",
    "Research on range() functions and its parameters. Create a markdown cell and write in your own\n",
    "words (no copy-paste from google please) what you understand about it. Implement a small\n",
    "program of your choice on the same.\n",
    "Question 3:\n",
    " Consider two numbers. Perform their subtraction and if the result of subtraction is greater than\n",
    "25, print their multiplication result else print their division result.\n",
    "Question 4:\n",
    "Consider a list of 10 elements of integer values. If the number in the list is divisible by 2, print the\n",
    "result as \"square of that number minus 2\".\n",
    "Question 5:\n",
    "Consider a list of 10 elements. Print all the elements in the list which are greater than 7 when that\n",
    "number is divided 2."
   ]
  },
  {
   "cell_type": "code",
   "execution_count": 3,
   "metadata": {
    "scrolled": true
   },
   "outputs": [
    {
     "name": "stdout",
     "output_type": "stream",
     "text": [
      "add =  (5+7j)\n",
      "sub =  (-1-1j)\n",
      "mul =  (3+28j)\n",
      "div :  (0.5365853658536587-0.17073170731707318j)\n"
     ]
    }
   ],
   "source": [
    "#1 add ,sub ,mul, div using comlex numbers.As floor and mdulo do not take complex number as their operand those cannot be performed.\n",
    "a = 2+3j\n",
    "b = 3+4j\n",
    "add = a+b\n",
    "print(\"add = \",add)\n",
    "m = 2+3j\n",
    "n = 3+4j\n",
    "sub= a-b\n",
    "print(\"sub = \",sub)\n",
    "l = (3+2j)\n",
    "o = (5+6j)\n",
    "mul = l*o\n",
    "print(\"mul = \",mul)\n",
    "div1 = 3+2j\n",
    "div2 = 4+5j\n",
    "print(\"div : \",div1/div2)"
   ]
  },
  {
   "cell_type": "code",
   "execution_count": 8,
   "metadata": {},
   "outputs": [
    {
     "name": "stdout",
     "output_type": "stream",
     "text": [
      "0\n",
      "1\n",
      "2\n",
      "3\n",
      "4\n",
      "5\n",
      "6\n",
      "7\n",
      "8\n",
      "9\n"
     ]
    }
   ],
   "source": [
    "#2 range()\n",
    "\"\"\"\n",
    "basically range is a sequence of number that is incremented fom zer to the specified limit.It considers 3 parameters that is start, stop and step\n",
    "so start is the initial value from where you want to stat ur sequqnce\n",
    "stop is basically where u want to end ur sequence but here the last value of the sequence will be (stop value -1)\n",
    "step is nothing but by how many steps your value should be shifted.\n",
    "\"\"\"\n",
    "for x in range(0,10):\n",
    "    print(x)\n"
   ]
  },
  {
   "cell_type": "code",
   "execution_count": 11,
   "metadata": {},
   "outputs": [
    {
     "name": "stdout",
     "output_type": "stream",
     "text": [
      "division of sub1 and sub2 :  1.2727272727272727\n"
     ]
    }
   ],
   "source": [
    "#3\n",
    "sub1 = 55\n",
    "sub2 = 70\n",
    "ans = sub2-sub1\n",
    "if ans > 25:\n",
    "    print(\"multiplication of sub1 and sub 2\",sub1*sub2)\n",
    "else:\n",
    "    print(\"division of sub1 and sub2 : \",sub2/sub1)"
   ]
  },
  {
   "cell_type": "code",
   "execution_count": 6,
   "metadata": {
    "scrolled": true
   },
   "outputs": [
    {
     "name": "stdout",
     "output_type": "stream",
     "text": [
      "2\n",
      "2 and its sqrt -2:  2\n",
      "10\n",
      "10 and its sqrt -2:  98\n",
      "44\n",
      "44 and its sqrt -2:  1934\n",
      "32\n",
      "32 and its sqrt -2:  1022\n",
      "70\n",
      "70 and its sqrt -2:  4898\n",
      "34\n",
      "34 and its sqrt -2:  1154\n",
      "12\n",
      "12 and its sqrt -2:  142\n",
      "hi\n"
     ]
    }
   ],
   "source": [
    "#4 list of num\n",
    "l = [2,10,44,32,65,70,34,12,35,89]\n",
    "for num in l:\n",
    "    if num % 2==0:\n",
    "        print(num)\n",
    "        result = (num ** 2)-2\n",
    "        print(num ,\"and its sqrt -2: \",result)\n",
    "else:\n",
    "    print(\"hi\")\n",
    "        "
   ]
  },
  {
   "cell_type": "code",
   "execution_count": 8,
   "metadata": {},
   "outputs": [
    {
     "name": "stdout",
     "output_type": "stream",
     "text": [
      "27\n",
      "15\n",
      "25\n",
      "50\n",
      "35\n",
      "76\n",
      "45\n"
     ]
    }
   ],
   "source": [
    "#5 find no greater than 7\n",
    "g = [27,15,25,7,10,50,12,35,76,45]\n",
    "for num in g:\n",
    "    if num / 2 > 7:\n",
    "        print(num)"
   ]
  }
 ],
 "metadata": {
  "kernelspec": {
   "display_name": "Python 3",
   "language": "python",
   "name": "python3"
  },
  "language_info": {
   "codemirror_mode": {
    "name": "ipython",
    "version": 3
   },
   "file_extension": ".py",
   "mimetype": "text/x-python",
   "name": "python",
   "nbconvert_exporter": "python",
   "pygments_lexer": "ipython3",
   "version": "3.7.6"
  }
 },
 "nbformat": 4,
 "nbformat_minor": 4
}
