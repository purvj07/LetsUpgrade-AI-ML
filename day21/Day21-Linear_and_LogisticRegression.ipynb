{
 "cells": [
  {
   "cell_type": "markdown",
   "metadata": {},
   "source": [
    "# Logistic Regression"
   ]
  },
  {
   "cell_type": "markdown",
   "metadata": {},
   "source": [
    "# Bankloan dataset"
   ]
  },
  {
   "cell_type": "code",
   "execution_count": null,
   "metadata": {},
   "outputs": [],
   "source": []
  },
  {
   "cell_type": "code",
   "execution_count": null,
   "metadata": {},
   "outputs": [],
   "source": [
    "import pandas as pd\n"
   ]
  },
  {
   "cell_type": "code",
   "execution_count": 13,
   "metadata": {},
   "outputs": [
    {
     "data": {
      "text/plain": [
       "Index(['ID', 'Age', 'Experience', 'Income', 'ZIP Code', 'Family', 'CCAvg',\n",
       "       'Education', 'Mortgage', 'Personal Loan', 'Securities Account',\n",
       "       'CD Account', 'Online', 'CreditCard'],\n",
       "      dtype='object')"
      ]
     },
     "execution_count": 13,
     "metadata": {},
     "output_type": "execute_result"
    }
   ],
   "source": [
    "dataset=pd.read_excel(\"Bank_Personal_Loan_Modelling.xlsx\",sheet_name=1)\n",
    "dataset.columns"
   ]
  },
  {
   "cell_type": "code",
   "execution_count": 14,
   "metadata": {},
   "outputs": [],
   "source": [
    "Y=dataset[\"Personal Loan\"]\n",
    "X=dataset[['ID', 'Age', 'Experience', 'Income', 'ZIP Code', 'Family', 'CCAvg',\n",
    "       'Education', 'Mortgage', 'Securities Account',\n",
    "       'CD Account', 'Online', 'CreditCard']]"
   ]
  },
  {
   "cell_type": "code",
   "execution_count": 30,
   "metadata": {},
   "outputs": [
    {
     "name": "stdout",
     "output_type": "stream",
     "text": [
      "Optimization terminated successfully.\n",
      "         Current function value: 0.128331\n",
      "         Iterations 9\n"
     ]
    }
   ],
   "source": [
    "import statsmodels.api as sm\n",
    "x1=sm.add_constant(X)\n",
    "logistic=sm.Logit(Y,x1)\n",
    "result=logistic.fit()\n"
   ]
  },
  {
   "cell_type": "code",
   "execution_count": 16,
   "metadata": {},
   "outputs": [
    {
     "data": {
      "text/html": [
       "<table class=\"simpletable\">\n",
       "<caption>Logit Regression Results</caption>\n",
       "<tr>\n",
       "  <th>Dep. Variable:</th>     <td>Personal Loan</td>  <th>  No. Observations:  </th>  <td>  5000</td> \n",
       "</tr>\n",
       "<tr>\n",
       "  <th>Model:</th>                 <td>Logit</td>      <th>  Df Residuals:      </th>  <td>  4986</td> \n",
       "</tr>\n",
       "<tr>\n",
       "  <th>Method:</th>                 <td>MLE</td>       <th>  Df Model:          </th>  <td>    13</td> \n",
       "</tr>\n",
       "<tr>\n",
       "  <th>Date:</th>            <td>Tue, 25 Aug 2020</td> <th>  Pseudo R-squ.:     </th>  <td>0.5942</td> \n",
       "</tr>\n",
       "<tr>\n",
       "  <th>Time:</th>                <td>20:32:24</td>     <th>  Log-Likelihood:    </th> <td> -641.65</td>\n",
       "</tr>\n",
       "<tr>\n",
       "  <th>converged:</th>             <td>True</td>       <th>  LL-Null:           </th> <td> -1581.0</td>\n",
       "</tr>\n",
       "<tr>\n",
       "  <th>Covariance Type:</th>     <td>nonrobust</td>    <th>  LLR p-value:       </th>  <td> 0.000</td> \n",
       "</tr>\n",
       "</table>\n",
       "<table class=\"simpletable\">\n",
       "<tr>\n",
       "           <td></td>             <th>coef</th>     <th>std err</th>      <th>z</th>      <th>P>|z|</th>  <th>[0.025</th>    <th>0.975]</th>  \n",
       "</tr>\n",
       "<tr>\n",
       "  <th>const</th>              <td>  -11.7179</td> <td>    4.115</td> <td>   -2.847</td> <td> 0.004</td> <td>  -19.784</td> <td>   -3.652</td>\n",
       "</tr>\n",
       "<tr>\n",
       "  <th>ID</th>                 <td> -5.23e-05</td> <td> 5.14e-05</td> <td>   -1.017</td> <td> 0.309</td> <td>   -0.000</td> <td> 4.85e-05</td>\n",
       "</tr>\n",
       "<tr>\n",
       "  <th>Age</th>                <td>   -0.0538</td> <td>    0.061</td> <td>   -0.877</td> <td> 0.380</td> <td>   -0.174</td> <td>    0.066</td>\n",
       "</tr>\n",
       "<tr>\n",
       "  <th>Experience</th>         <td>    0.0639</td> <td>    0.061</td> <td>    1.048</td> <td> 0.295</td> <td>   -0.056</td> <td>    0.183</td>\n",
       "</tr>\n",
       "<tr>\n",
       "  <th>Income</th>             <td>    0.0547</td> <td>    0.003</td> <td>   20.820</td> <td> 0.000</td> <td>    0.050</td> <td>    0.060</td>\n",
       "</tr>\n",
       "<tr>\n",
       "  <th>ZIP Code</th>           <td>-3.743e-06</td> <td> 4.07e-05</td> <td>   -0.092</td> <td> 0.927</td> <td>-8.35e-05</td> <td> 7.61e-05</td>\n",
       "</tr>\n",
       "<tr>\n",
       "  <th>Family</th>             <td>    0.6952</td> <td>    0.074</td> <td>    9.353</td> <td> 0.000</td> <td>    0.549</td> <td>    0.841</td>\n",
       "</tr>\n",
       "<tr>\n",
       "  <th>CCAvg</th>              <td>    0.1218</td> <td>    0.040</td> <td>    3.070</td> <td> 0.002</td> <td>    0.044</td> <td>    0.200</td>\n",
       "</tr>\n",
       "<tr>\n",
       "  <th>Education</th>          <td>    1.7404</td> <td>    0.115</td> <td>   15.098</td> <td> 0.000</td> <td>    1.514</td> <td>    1.966</td>\n",
       "</tr>\n",
       "<tr>\n",
       "  <th>Mortgage</th>           <td>    0.0005</td> <td>    0.001</td> <td>    0.836</td> <td> 0.403</td> <td>   -0.001</td> <td>    0.002</td>\n",
       "</tr>\n",
       "<tr>\n",
       "  <th>Securities Account</th> <td>   -0.9453</td> <td>    0.286</td> <td>   -3.305</td> <td> 0.001</td> <td>   -1.506</td> <td>   -0.385</td>\n",
       "</tr>\n",
       "<tr>\n",
       "  <th>CD Account</th>         <td>    3.8232</td> <td>    0.324</td> <td>   11.791</td> <td> 0.000</td> <td>    3.188</td> <td>    4.459</td>\n",
       "</tr>\n",
       "<tr>\n",
       "  <th>Online</th>             <td>   -0.6717</td> <td>    0.157</td> <td>   -4.272</td> <td> 0.000</td> <td>   -0.980</td> <td>   -0.364</td>\n",
       "</tr>\n",
       "<tr>\n",
       "  <th>CreditCard</th>         <td>   -1.1136</td> <td>    0.205</td> <td>   -5.430</td> <td> 0.000</td> <td>   -1.516</td> <td>   -0.712</td>\n",
       "</tr>\n",
       "</table>"
      ],
      "text/plain": [
       "<class 'statsmodels.iolib.summary.Summary'>\n",
       "\"\"\"\n",
       "                           Logit Regression Results                           \n",
       "==============================================================================\n",
       "Dep. Variable:          Personal Loan   No. Observations:                 5000\n",
       "Model:                          Logit   Df Residuals:                     4986\n",
       "Method:                           MLE   Df Model:                           13\n",
       "Date:                Tue, 25 Aug 2020   Pseudo R-squ.:                  0.5942\n",
       "Time:                        20:32:24   Log-Likelihood:                -641.65\n",
       "converged:                       True   LL-Null:                       -1581.0\n",
       "Covariance Type:            nonrobust   LLR p-value:                     0.000\n",
       "======================================================================================\n",
       "                         coef    std err          z      P>|z|      [0.025      0.975]\n",
       "--------------------------------------------------------------------------------------\n",
       "const                -11.7179      4.115     -2.847      0.004     -19.784      -3.652\n",
       "ID                  -5.23e-05   5.14e-05     -1.017      0.309      -0.000    4.85e-05\n",
       "Age                   -0.0538      0.061     -0.877      0.380      -0.174       0.066\n",
       "Experience             0.0639      0.061      1.048      0.295      -0.056       0.183\n",
       "Income                 0.0547      0.003     20.820      0.000       0.050       0.060\n",
       "ZIP Code           -3.743e-06   4.07e-05     -0.092      0.927   -8.35e-05    7.61e-05\n",
       "Family                 0.6952      0.074      9.353      0.000       0.549       0.841\n",
       "CCAvg                  0.1218      0.040      3.070      0.002       0.044       0.200\n",
       "Education              1.7404      0.115     15.098      0.000       1.514       1.966\n",
       "Mortgage               0.0005      0.001      0.836      0.403      -0.001       0.002\n",
       "Securities Account    -0.9453      0.286     -3.305      0.001      -1.506      -0.385\n",
       "CD Account             3.8232      0.324     11.791      0.000       3.188       4.459\n",
       "Online                -0.6717      0.157     -4.272      0.000      -0.980      -0.364\n",
       "CreditCard            -1.1136      0.205     -5.430      0.000      -1.516      -0.712\n",
       "======================================================================================\n",
       "\"\"\""
      ]
     },
     "execution_count": 16,
     "metadata": {},
     "output_type": "execute_result"
    }
   ],
   "source": [
    "result.summary()"
   ]
  },
  {
   "cell_type": "markdown",
   "metadata": {},
   "source": [
    "# Inferences\n",
    "\n",
    "Income,Family,CreditCard,Online,CD Account,Securities Account,Education,CCAvg plays a significant role for the permission of loan sanction."
   ]
  },
  {
   "cell_type": "code",
   "execution_count": null,
   "metadata": {},
   "outputs": [],
   "source": []
  },
  {
   "cell_type": "markdown",
   "metadata": {},
   "source": [
    "# Attrition dataset"
   ]
  },
  {
   "cell_type": "code",
   "execution_count": 97,
   "metadata": {},
   "outputs": [
    {
     "data": {
      "text/plain": [
       "Index(['Age', 'Attrition', 'BusinessTravel', 'Department', 'DistanceFromHome',\n",
       "       'Education', 'EducationField', 'EmployeeCount', 'EmployeeID', 'Gender',\n",
       "       'JobLevel', 'JobRole', 'MaritalStatus', 'MonthlyIncome',\n",
       "       'NumCompaniesWorked', 'Over18', 'PercentSalaryHike', 'StandardHours',\n",
       "       'StockOptionLevel', 'TotalWorkingYears', 'TrainingTimesLastYear',\n",
       "       'YearsAtCompany', 'YearsSinceLastPromotion', 'YearsWithCurrManager'],\n",
       "      dtype='object')"
      ]
     },
     "execution_count": 97,
     "metadata": {},
     "output_type": "execute_result"
    }
   ],
   "source": [
    "dataset1=pd.read_csv(\"general_data.csv\")\n",
    "dataset1.columns"
   ]
  },
  {
   "cell_type": "code",
   "execution_count": 98,
   "metadata": {},
   "outputs": [],
   "source": [
    "from sklearn import preprocessing\n",
    "le = preprocessing.LabelEncoder()\n",
    "dataset1[\"Attrition\"]= le.fit_transform(dataset1[\"Attrition\"])\n",
    "dataset1[\"BusinessTravel\"]= le.fit_transform(dataset1[\"BusinessTravel\"])\n",
    "dataset1[\"EducationField\"]= le.fit_transform(dataset1[\"EducationField\"])\n",
    "dataset1[\"Gender\"]= le.fit_transform(dataset1[\"Gender\"])\n",
    "dataset1[\"MaritalStatus\"]= le.fit_transform(dataset1[\"MaritalStatus\"])\n",
    "dataset1[\"JobRole\"]= le.fit_transform(dataset1[\"JobRole\"])\n",
    "dataset1[\"Department\"]= le.fit_transform(dataset1[\"Department\"])"
   ]
  },
  {
   "cell_type": "code",
   "execution_count": 99,
   "metadata": {},
   "outputs": [],
   "source": [
    "dataset2= dataset1.drop(['EmployeeCount', 'EmployeeID','Over18','StandardHours'],axis=1)"
   ]
  },
  {
   "cell_type": "code",
   "execution_count": 100,
   "metadata": {},
   "outputs": [],
   "source": [
    "dataset3=dataset2.dropna()"
   ]
  },
  {
   "cell_type": "code",
   "execution_count": 101,
   "metadata": {},
   "outputs": [],
   "source": [
    "dataset4=dataset3.drop_duplicates()"
   ]
  },
  {
   "cell_type": "code",
   "execution_count": 102,
   "metadata": {},
   "outputs": [],
   "source": [
    "Y1=dataset4[\"Attrition\"]\n",
    "X1=dataset4[['Age', 'BusinessTravel', 'Department', 'DistanceFromHome',\n",
    "       'Education', 'EducationField', 'Gender',\n",
    "       'JobLevel', 'JobRole', 'MaritalStatus', 'MonthlyIncome',\n",
    "       'NumCompaniesWorked', 'PercentSalaryHike',\n",
    "       'StockOptionLevel', 'TotalWorkingYears', 'TrainingTimesLastYear',\n",
    "       'YearsAtCompany', 'YearsSinceLastPromotion', 'YearsWithCurrManager']]"
   ]
  },
  {
   "cell_type": "code",
   "execution_count": 103,
   "metadata": {},
   "outputs": [],
   "source": [
    "x2=sm.add_constant(X1)\n"
   ]
  },
  {
   "cell_type": "code",
   "execution_count": 104,
   "metadata": {},
   "outputs": [
    {
     "name": "stdout",
     "output_type": "stream",
     "text": [
      "Optimization terminated successfully.\n",
      "         Current function value: 0.392756\n",
      "         Iterations 7\n"
     ]
    }
   ],
   "source": [
    "est = sm.OLS(Y1.astype(float), x2.astype(float)).fit()\n",
    "logistic1 = sm.Logit(Y1,x2)\n",
    "result=logistic1.fit()\n"
   ]
  },
  {
   "cell_type": "code",
   "execution_count": 105,
   "metadata": {},
   "outputs": [
    {
     "data": {
      "text/html": [
       "<table class=\"simpletable\">\n",
       "<caption>Logit Regression Results</caption>\n",
       "<tr>\n",
       "  <th>Dep. Variable:</th>       <td>Attrition</td>    <th>  No. Observations:  </th>  <td>  1470</td>  \n",
       "</tr>\n",
       "<tr>\n",
       "  <th>Model:</th>                 <td>Logit</td>      <th>  Df Residuals:      </th>  <td>  1450</td>  \n",
       "</tr>\n",
       "<tr>\n",
       "  <th>Method:</th>                 <td>MLE</td>       <th>  Df Model:          </th>  <td>    19</td>  \n",
       "</tr>\n",
       "<tr>\n",
       "  <th>Date:</th>            <td>Tue, 25 Aug 2020</td> <th>  Pseudo R-squ.:     </th>  <td>0.1108</td>  \n",
       "</tr>\n",
       "<tr>\n",
       "  <th>Time:</th>                <td>21:02:12</td>     <th>  Log-Likelihood:    </th> <td> -577.35</td> \n",
       "</tr>\n",
       "<tr>\n",
       "  <th>converged:</th>             <td>True</td>       <th>  LL-Null:           </th> <td> -649.29</td> \n",
       "</tr>\n",
       "<tr>\n",
       "  <th>Covariance Type:</th>     <td>nonrobust</td>    <th>  LLR p-value:       </th> <td>3.295e-21</td>\n",
       "</tr>\n",
       "</table>\n",
       "<table class=\"simpletable\">\n",
       "<tr>\n",
       "             <td></td>                <th>coef</th>     <th>std err</th>      <th>z</th>      <th>P>|z|</th>  <th>[0.025</th>    <th>0.975]</th>  \n",
       "</tr>\n",
       "<tr>\n",
       "  <th>const</th>                   <td>    0.0650</td> <td>    0.717</td> <td>    0.091</td> <td> 0.928</td> <td>   -1.340</td> <td>    1.470</td>\n",
       "</tr>\n",
       "<tr>\n",
       "  <th>Age</th>                     <td>   -0.0306</td> <td>    0.012</td> <td>   -2.583</td> <td> 0.010</td> <td>   -0.054</td> <td>   -0.007</td>\n",
       "</tr>\n",
       "<tr>\n",
       "  <th>BusinessTravel</th>          <td>   -0.0166</td> <td>    0.113</td> <td>   -0.146</td> <td> 0.884</td> <td>   -0.239</td> <td>    0.206</td>\n",
       "</tr>\n",
       "<tr>\n",
       "  <th>Department</th>              <td>   -0.2421</td> <td>    0.141</td> <td>   -1.720</td> <td> 0.085</td> <td>   -0.518</td> <td>    0.034</td>\n",
       "</tr>\n",
       "<tr>\n",
       "  <th>DistanceFromHome</th>        <td>   -0.0014</td> <td>    0.009</td> <td>   -0.145</td> <td> 0.884</td> <td>   -0.020</td> <td>    0.017</td>\n",
       "</tr>\n",
       "<tr>\n",
       "  <th>Education</th>               <td>   -0.0625</td> <td>    0.074</td> <td>   -0.847</td> <td> 0.397</td> <td>   -0.207</td> <td>    0.082</td>\n",
       "</tr>\n",
       "<tr>\n",
       "  <th>EducationField</th>          <td>   -0.0965</td> <td>    0.058</td> <td>   -1.669</td> <td> 0.095</td> <td>   -0.210</td> <td>    0.017</td>\n",
       "</tr>\n",
       "<tr>\n",
       "  <th>Gender</th>                  <td>    0.0869</td> <td>    0.155</td> <td>    0.560</td> <td> 0.576</td> <td>   -0.217</td> <td>    0.391</td>\n",
       "</tr>\n",
       "<tr>\n",
       "  <th>JobLevel</th>                <td>   -0.0249</td> <td>    0.069</td> <td>   -0.363</td> <td> 0.717</td> <td>   -0.159</td> <td>    0.110</td>\n",
       "</tr>\n",
       "<tr>\n",
       "  <th>JobRole</th>                 <td>    0.0378</td> <td>    0.031</td> <td>    1.219</td> <td> 0.223</td> <td>   -0.023</td> <td>    0.099</td>\n",
       "</tr>\n",
       "<tr>\n",
       "  <th>MaritalStatus</th>           <td>    0.5885</td> <td>    0.109</td> <td>    5.379</td> <td> 0.000</td> <td>    0.374</td> <td>    0.803</td>\n",
       "</tr>\n",
       "<tr>\n",
       "  <th>MonthlyIncome</th>           <td>-1.868e-06</td> <td> 1.66e-06</td> <td>   -1.128</td> <td> 0.259</td> <td>-5.11e-06</td> <td> 1.38e-06</td>\n",
       "</tr>\n",
       "<tr>\n",
       "  <th>NumCompaniesWorked</th>      <td>    0.1184</td> <td>    0.032</td> <td>    3.729</td> <td> 0.000</td> <td>    0.056</td> <td>    0.181</td>\n",
       "</tr>\n",
       "<tr>\n",
       "  <th>PercentSalaryHike</th>       <td>    0.0117</td> <td>    0.020</td> <td>    0.576</td> <td> 0.565</td> <td>   -0.028</td> <td>    0.052</td>\n",
       "</tr>\n",
       "<tr>\n",
       "  <th>StockOptionLevel</th>        <td>   -0.0645</td> <td>    0.089</td> <td>   -0.721</td> <td> 0.471</td> <td>   -0.240</td> <td>    0.111</td>\n",
       "</tr>\n",
       "<tr>\n",
       "  <th>TotalWorkingYears</th>       <td>   -0.0593</td> <td>    0.021</td> <td>   -2.856</td> <td> 0.004</td> <td>   -0.100</td> <td>   -0.019</td>\n",
       "</tr>\n",
       "<tr>\n",
       "  <th>TrainingTimesLastYear</th>   <td>   -0.1465</td> <td>    0.061</td> <td>   -2.406</td> <td> 0.016</td> <td>   -0.266</td> <td>   -0.027</td>\n",
       "</tr>\n",
       "<tr>\n",
       "  <th>YearsAtCompany</th>          <td>    0.0136</td> <td>    0.032</td> <td>    0.428</td> <td> 0.669</td> <td>   -0.049</td> <td>    0.076</td>\n",
       "</tr>\n",
       "<tr>\n",
       "  <th>YearsSinceLastPromotion</th> <td>    0.1323</td> <td>    0.035</td> <td>    3.732</td> <td> 0.000</td> <td>    0.063</td> <td>    0.202</td>\n",
       "</tr>\n",
       "<tr>\n",
       "  <th>YearsWithCurrManager</th>    <td>   -0.1396</td> <td>    0.038</td> <td>   -3.642</td> <td> 0.000</td> <td>   -0.215</td> <td>   -0.064</td>\n",
       "</tr>\n",
       "</table>"
      ],
      "text/plain": [
       "<class 'statsmodels.iolib.summary.Summary'>\n",
       "\"\"\"\n",
       "                           Logit Regression Results                           \n",
       "==============================================================================\n",
       "Dep. Variable:              Attrition   No. Observations:                 1470\n",
       "Model:                          Logit   Df Residuals:                     1450\n",
       "Method:                           MLE   Df Model:                           19\n",
       "Date:                Tue, 25 Aug 2020   Pseudo R-squ.:                  0.1108\n",
       "Time:                        21:02:12   Log-Likelihood:                -577.35\n",
       "converged:                       True   LL-Null:                       -649.29\n",
       "Covariance Type:            nonrobust   LLR p-value:                 3.295e-21\n",
       "===========================================================================================\n",
       "                              coef    std err          z      P>|z|      [0.025      0.975]\n",
       "-------------------------------------------------------------------------------------------\n",
       "const                       0.0650      0.717      0.091      0.928      -1.340       1.470\n",
       "Age                        -0.0306      0.012     -2.583      0.010      -0.054      -0.007\n",
       "BusinessTravel             -0.0166      0.113     -0.146      0.884      -0.239       0.206\n",
       "Department                 -0.2421      0.141     -1.720      0.085      -0.518       0.034\n",
       "DistanceFromHome           -0.0014      0.009     -0.145      0.884      -0.020       0.017\n",
       "Education                  -0.0625      0.074     -0.847      0.397      -0.207       0.082\n",
       "EducationField             -0.0965      0.058     -1.669      0.095      -0.210       0.017\n",
       "Gender                      0.0869      0.155      0.560      0.576      -0.217       0.391\n",
       "JobLevel                   -0.0249      0.069     -0.363      0.717      -0.159       0.110\n",
       "JobRole                     0.0378      0.031      1.219      0.223      -0.023       0.099\n",
       "MaritalStatus               0.5885      0.109      5.379      0.000       0.374       0.803\n",
       "MonthlyIncome           -1.868e-06   1.66e-06     -1.128      0.259   -5.11e-06    1.38e-06\n",
       "NumCompaniesWorked          0.1184      0.032      3.729      0.000       0.056       0.181\n",
       "PercentSalaryHike           0.0117      0.020      0.576      0.565      -0.028       0.052\n",
       "StockOptionLevel           -0.0645      0.089     -0.721      0.471      -0.240       0.111\n",
       "TotalWorkingYears          -0.0593      0.021     -2.856      0.004      -0.100      -0.019\n",
       "TrainingTimesLastYear      -0.1465      0.061     -2.406      0.016      -0.266      -0.027\n",
       "YearsAtCompany              0.0136      0.032      0.428      0.669      -0.049       0.076\n",
       "YearsSinceLastPromotion     0.1323      0.035      3.732      0.000       0.063       0.202\n",
       "YearsWithCurrManager       -0.1396      0.038     -3.642      0.000      -0.215      -0.064\n",
       "===========================================================================================\n",
       "\"\"\""
      ]
     },
     "execution_count": 105,
     "metadata": {},
     "output_type": "execute_result"
    }
   ],
   "source": [
    "result.summary()"
   ]
  },
  {
   "cell_type": "markdown",
   "metadata": {},
   "source": [
    "# INFERENCES\n",
    "\n",
    "Age,YearsWithCurrManager,YearsSinceLastPromotion,TrainingTimesLastYear,TotalWorkingYears,NumCompaniesWorked,MaritalStatus plays a significant role in the increase rate of attrition."
   ]
  }
 ],
 "metadata": {
  "kernelspec": {
   "display_name": "Python 3",
   "language": "python",
   "name": "python3"
  },
  "language_info": {
   "codemirror_mode": {
    "name": "ipython",
    "version": 3
   },
   "file_extension": ".py",
   "mimetype": "text/x-python",
   "name": "python",
   "nbconvert_exporter": "python",
   "pygments_lexer": "ipython3",
   "version": "3.7.6"
  }
 },
 "nbformat": 4,
 "nbformat_minor": 4
}
