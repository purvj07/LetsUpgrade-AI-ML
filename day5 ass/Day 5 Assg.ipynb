{
 "cells": [
  {
   "cell_type": "markdown",
   "metadata": {},
   "source": [
    "Question 1 :\n",
    "Write a Python program to find the first 20 non-even prime natural numbers.\n",
    "Question 2 :\n",
    "Write a Python program to implement 15 functions of string.\n",
    "Question 3:\n",
    "Write a Python program to check if the given string is a Palindrome or Anagram or None of them.\n",
    "Display the message accordingly to the user.\n",
    "Question 4:\n",
    "Write a Python's user defined function that removes all the additional characters from the string\n",
    "and converts it finally to lower case using built-in lower(). eg: If the string is \"Dr. Darshan Ingle\n",
    "@AI-ML Trainer\", then the output be \"drdarshaningleaimltrainer\"."
   ]
  },
  {
   "cell_type": "code",
   "execution_count": 44,
   "metadata": {},
   "outputs": [
    {
     "name": "stdout",
     "output_type": "stream",
     "text": [
      "1\n",
      "3\n",
      "5\n",
      "7\n",
      "9\n",
      "11\n",
      "13\n",
      "15\n",
      "17\n",
      "19\n",
      "0\n"
     ]
    }
   ],
   "source": [
    "#1 non even prime no\n",
    "\n",
    "for x in range(1,21):\n",
    "    if x%2==0:\n",
    "        continue\n",
    "    print(x)\n",
    "    \n",
    "for num in range(x):\n",
    "    if x>1:\n",
    "        if num%x == 0:\n",
    "            print(num)\n"
   ]
  },
  {
   "cell_type": "code",
   "execution_count": 70,
   "metadata": {},
   "outputs": [
    {
     "name": "stdout",
     "output_type": "stream",
     "text": [
      "hello,letsupgrade\n",
      "HELLO,LETSUPGRADE\n",
      "hallo,LatsUpgrada\n",
      "Hello,letsupgrade\n",
      "['hello', 'LetsUpgrade']\n",
      "      hello,LetsUpgrade       \n",
      "b'hello,LetsUpgrade'\n",
      "False\n",
      "False\n",
      "False\n",
      "h.e.l.l.o.,.L.e.t.s.U.p.g.r.a.d.e\n",
      "('hello', ',', 'LetsUpgrade')\n",
      "16\n",
      "   hello,LetsUpgrade\n",
      "Hello,Letsupgrade\n"
     ]
    }
   ],
   "source": [
    "#2 functions of string\n",
    "s = \"hello,LetsUpgrade\"\n",
    "print(s.lower())   #converts the string in to lower case\n",
    "print(s.upper())   #converts string in to upper case\n",
    "print(s.replace(\"e\",\"a\")) #epace specific character with the specified one\n",
    "print(s.capitalize()) #capitalizes the first character\n",
    "print(s.split(\",\"))  #separates string in to substring if it finds the separator\n",
    "print(s.center(30))  #ceenters ur string with the specified number of space\n",
    "print(s.encode(encoding=\"ascii\",errors=\"xmlcharrefreplace\"))\n",
    "print(s.endswith(\".\"))\n",
    "print(s.isalnum())\n",
    "print(s.isidentifier())\n",
    "print(\".\".join(s))\n",
    "print(s.partition(\",\"))\n",
    "print(s.rfind(\"e\"))\n",
    "print(s.rjust(20))\n",
    "print(s.title())"
   ]
  },
  {
   "cell_type": "code",
   "execution_count": 25,
   "metadata": {},
   "outputs": [
    {
     "name": "stdout",
     "output_type": "stream",
     "text": [
      "Enter the String: madam\n",
      "Enter a string: aadm\n",
      "the string is palindrome\n",
      "the strings are anagram of each other\n"
     ]
    }
   ],
   "source": [
    "#3 palindrome\n",
    "st = input(\"Enter the String: \")\n",
    "st1 = input(\"Enter a string: \")\n",
    "if(st[:]==st[::-1]):\n",
    "    print(\"the string is palindrome\")\n",
    "else:\n",
    "    print(\"it is not a palindrome\")\n",
    "if x in st and y in st1:\n",
    "    if(x==y):\n",
    "        print(\"the strings are anagram of each other\")"
   ]
  },
  {
   "cell_type": "code",
   "execution_count": 17,
   "metadata": {},
   "outputs": [
    {
     "name": "stdout",
     "output_type": "stream",
     "text": [
      " thisisstringwithspecialcharacters\n"
     ]
    }
   ],
   "source": [
    "#4 remove special characters\n",
    "s1 = \"this #is@stringwith$special characters\"\n",
    "s2 = \" \"\n",
    "for chars in s1:\n",
    "    if chars.isalnum():\n",
    "        s2 += chars\n",
    "print(s2)\n",
    "    "
   ]
  },
  {
   "cell_type": "code",
   "execution_count": null,
   "metadata": {},
   "outputs": [],
   "source": []
  },
  {
   "cell_type": "code",
   "execution_count": null,
   "metadata": {},
   "outputs": [],
   "source": []
  }
 ],
 "metadata": {
  "kernelspec": {
   "display_name": "Python 3",
   "language": "python",
   "name": "python3"
  },
  "language_info": {
   "codemirror_mode": {
    "name": "ipython",
    "version": 3
   },
   "file_extension": ".py",
   "mimetype": "text/x-python",
   "name": "python",
   "nbconvert_exporter": "python",
   "pygments_lexer": "ipython3",
   "version": "3.7.6"
  }
 },
 "nbformat": 4,
 "nbformat_minor": 4
}
