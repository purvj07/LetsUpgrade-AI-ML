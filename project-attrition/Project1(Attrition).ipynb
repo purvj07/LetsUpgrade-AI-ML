{
 "cells": [
  {
   "cell_type": "code",
   "execution_count": 5,
   "metadata": {},
   "outputs": [
    {
     "data": {
      "text/html": [
       "<div>\n",
       "<style scoped>\n",
       "    .dataframe tbody tr th:only-of-type {\n",
       "        vertical-align: middle;\n",
       "    }\n",
       "\n",
       "    .dataframe tbody tr th {\n",
       "        vertical-align: top;\n",
       "    }\n",
       "\n",
       "    .dataframe thead th {\n",
       "        text-align: right;\n",
       "    }\n",
       "</style>\n",
       "<table border=\"1\" class=\"dataframe\">\n",
       "  <thead>\n",
       "    <tr style=\"text-align: right;\">\n",
       "      <th></th>\n",
       "      <th>Age</th>\n",
       "      <th>Attrition</th>\n",
       "      <th>BusinessTravel</th>\n",
       "      <th>Department</th>\n",
       "      <th>DistanceFromHome</th>\n",
       "      <th>Education</th>\n",
       "      <th>EducationField</th>\n",
       "      <th>EmployeeCount</th>\n",
       "      <th>EmployeeID</th>\n",
       "      <th>Gender</th>\n",
       "      <th>...</th>\n",
       "      <th>NumCompaniesWorked</th>\n",
       "      <th>Over18</th>\n",
       "      <th>PercentSalaryHike</th>\n",
       "      <th>StandardHours</th>\n",
       "      <th>StockOptionLevel</th>\n",
       "      <th>TotalWorkingYears</th>\n",
       "      <th>TrainingTimesLastYear</th>\n",
       "      <th>YearsAtCompany</th>\n",
       "      <th>YearsSinceLastPromotion</th>\n",
       "      <th>YearsWithCurrManager</th>\n",
       "    </tr>\n",
       "  </thead>\n",
       "  <tbody>\n",
       "    <tr>\n",
       "      <th>0</th>\n",
       "      <td>51</td>\n",
       "      <td>No</td>\n",
       "      <td>Travel_Rarely</td>\n",
       "      <td>Sales</td>\n",
       "      <td>6</td>\n",
       "      <td>2</td>\n",
       "      <td>Life Sciences</td>\n",
       "      <td>1</td>\n",
       "      <td>1</td>\n",
       "      <td>Female</td>\n",
       "      <td>...</td>\n",
       "      <td>1.0</td>\n",
       "      <td>Y</td>\n",
       "      <td>11</td>\n",
       "      <td>8</td>\n",
       "      <td>0</td>\n",
       "      <td>1.0</td>\n",
       "      <td>6</td>\n",
       "      <td>1</td>\n",
       "      <td>0</td>\n",
       "      <td>0</td>\n",
       "    </tr>\n",
       "    <tr>\n",
       "      <th>1</th>\n",
       "      <td>31</td>\n",
       "      <td>Yes</td>\n",
       "      <td>Travel_Frequently</td>\n",
       "      <td>Research &amp; Development</td>\n",
       "      <td>10</td>\n",
       "      <td>1</td>\n",
       "      <td>Life Sciences</td>\n",
       "      <td>1</td>\n",
       "      <td>2</td>\n",
       "      <td>Female</td>\n",
       "      <td>...</td>\n",
       "      <td>0.0</td>\n",
       "      <td>Y</td>\n",
       "      <td>23</td>\n",
       "      <td>8</td>\n",
       "      <td>1</td>\n",
       "      <td>6.0</td>\n",
       "      <td>3</td>\n",
       "      <td>5</td>\n",
       "      <td>1</td>\n",
       "      <td>4</td>\n",
       "    </tr>\n",
       "    <tr>\n",
       "      <th>2</th>\n",
       "      <td>32</td>\n",
       "      <td>No</td>\n",
       "      <td>Travel_Frequently</td>\n",
       "      <td>Research &amp; Development</td>\n",
       "      <td>17</td>\n",
       "      <td>4</td>\n",
       "      <td>Other</td>\n",
       "      <td>1</td>\n",
       "      <td>3</td>\n",
       "      <td>Male</td>\n",
       "      <td>...</td>\n",
       "      <td>1.0</td>\n",
       "      <td>Y</td>\n",
       "      <td>15</td>\n",
       "      <td>8</td>\n",
       "      <td>3</td>\n",
       "      <td>5.0</td>\n",
       "      <td>2</td>\n",
       "      <td>5</td>\n",
       "      <td>0</td>\n",
       "      <td>3</td>\n",
       "    </tr>\n",
       "    <tr>\n",
       "      <th>3</th>\n",
       "      <td>38</td>\n",
       "      <td>No</td>\n",
       "      <td>Non-Travel</td>\n",
       "      <td>Research &amp; Development</td>\n",
       "      <td>2</td>\n",
       "      <td>5</td>\n",
       "      <td>Life Sciences</td>\n",
       "      <td>1</td>\n",
       "      <td>4</td>\n",
       "      <td>Male</td>\n",
       "      <td>...</td>\n",
       "      <td>3.0</td>\n",
       "      <td>Y</td>\n",
       "      <td>11</td>\n",
       "      <td>8</td>\n",
       "      <td>3</td>\n",
       "      <td>13.0</td>\n",
       "      <td>5</td>\n",
       "      <td>8</td>\n",
       "      <td>7</td>\n",
       "      <td>5</td>\n",
       "    </tr>\n",
       "    <tr>\n",
       "      <th>4</th>\n",
       "      <td>32</td>\n",
       "      <td>No</td>\n",
       "      <td>Travel_Rarely</td>\n",
       "      <td>Research &amp; Development</td>\n",
       "      <td>10</td>\n",
       "      <td>1</td>\n",
       "      <td>Medical</td>\n",
       "      <td>1</td>\n",
       "      <td>5</td>\n",
       "      <td>Male</td>\n",
       "      <td>...</td>\n",
       "      <td>4.0</td>\n",
       "      <td>Y</td>\n",
       "      <td>12</td>\n",
       "      <td>8</td>\n",
       "      <td>2</td>\n",
       "      <td>9.0</td>\n",
       "      <td>2</td>\n",
       "      <td>6</td>\n",
       "      <td>0</td>\n",
       "      <td>4</td>\n",
       "    </tr>\n",
       "  </tbody>\n",
       "</table>\n",
       "<p>5 rows × 24 columns</p>\n",
       "</div>"
      ],
      "text/plain": [
       "   Age Attrition     BusinessTravel              Department  DistanceFromHome  \\\n",
       "0   51        No      Travel_Rarely                   Sales                 6   \n",
       "1   31       Yes  Travel_Frequently  Research & Development                10   \n",
       "2   32        No  Travel_Frequently  Research & Development                17   \n",
       "3   38        No         Non-Travel  Research & Development                 2   \n",
       "4   32        No      Travel_Rarely  Research & Development                10   \n",
       "\n",
       "   Education EducationField  EmployeeCount  EmployeeID  Gender  ...  \\\n",
       "0          2  Life Sciences              1           1  Female  ...   \n",
       "1          1  Life Sciences              1           2  Female  ...   \n",
       "2          4          Other              1           3    Male  ...   \n",
       "3          5  Life Sciences              1           4    Male  ...   \n",
       "4          1        Medical              1           5    Male  ...   \n",
       "\n",
       "   NumCompaniesWorked Over18 PercentSalaryHike  StandardHours  \\\n",
       "0                 1.0      Y                11              8   \n",
       "1                 0.0      Y                23              8   \n",
       "2                 1.0      Y                15              8   \n",
       "3                 3.0      Y                11              8   \n",
       "4                 4.0      Y                12              8   \n",
       "\n",
       "   StockOptionLevel TotalWorkingYears  TrainingTimesLastYear  YearsAtCompany  \\\n",
       "0                 0               1.0                      6               1   \n",
       "1                 1               6.0                      3               5   \n",
       "2                 3               5.0                      2               5   \n",
       "3                 3              13.0                      5               8   \n",
       "4                 2               9.0                      2               6   \n",
       "\n",
       "   YearsSinceLastPromotion  YearsWithCurrManager  \n",
       "0                        0                     0  \n",
       "1                        1                     4  \n",
       "2                        0                     3  \n",
       "3                        7                     5  \n",
       "4                        0                     4  \n",
       "\n",
       "[5 rows x 24 columns]"
      ]
     },
     "execution_count": 5,
     "metadata": {},
     "output_type": "execute_result"
    }
   ],
   "source": [
    "import pandas as pd    #importing packages to store data in the dataframe format\n",
    "import matplotlib.pyplot as plt #and this is used for pictorial representation of the data\n",
    "dataset = pd.read_csv('general_data.csv')\n",
    "dataset.head()         #head()displays the first 5 records of the dataset whereas tail() displays the last 5 records."
   ]
  },
  {
   "cell_type": "code",
   "execution_count": 6,
   "metadata": {},
   "outputs": [
    {
     "data": {
      "text/plain": [
       "Index(['Age', 'Attrition', 'BusinessTravel', 'Department', 'DistanceFromHome',\n",
       "       'Education', 'EducationField', 'EmployeeCount', 'EmployeeID', 'Gender',\n",
       "       'JobLevel', 'JobRole', 'MaritalStatus', 'MonthlyIncome',\n",
       "       'NumCompaniesWorked', 'Over18', 'PercentSalaryHike', 'StandardHours',\n",
       "       'StockOptionLevel', 'TotalWorkingYears', 'TrainingTimesLastYear',\n",
       "       'YearsAtCompany', 'YearsSinceLastPromotion', 'YearsWithCurrManager'],\n",
       "      dtype='object')"
      ]
     },
     "execution_count": 6,
     "metadata": {},
     "output_type": "execute_result"
    }
   ],
   "source": [
    "#To know what all columns our dataset consists of.\n",
    "dataset.columns\n"
   ]
  },
  {
   "cell_type": "code",
   "execution_count": 7,
   "metadata": {},
   "outputs": [
    {
     "data": {
      "text/plain": [
       "<bound method DataFrame.info of       Age Attrition     BusinessTravel              Department  \\\n",
       "0      51        No      Travel_Rarely                   Sales   \n",
       "1      31       Yes  Travel_Frequently  Research & Development   \n",
       "2      32        No  Travel_Frequently  Research & Development   \n",
       "3      38        No         Non-Travel  Research & Development   \n",
       "4      32        No      Travel_Rarely  Research & Development   \n",
       "...   ...       ...                ...                     ...   \n",
       "4405   42        No      Travel_Rarely  Research & Development   \n",
       "4406   29        No      Travel_Rarely  Research & Development   \n",
       "4407   25        No      Travel_Rarely  Research & Development   \n",
       "4408   42        No      Travel_Rarely                   Sales   \n",
       "4409   40        No      Travel_Rarely  Research & Development   \n",
       "\n",
       "      DistanceFromHome  Education EducationField  EmployeeCount  EmployeeID  \\\n",
       "0                    6          2  Life Sciences              1           1   \n",
       "1                   10          1  Life Sciences              1           2   \n",
       "2                   17          4          Other              1           3   \n",
       "3                    2          5  Life Sciences              1           4   \n",
       "4                   10          1        Medical              1           5   \n",
       "...                ...        ...            ...            ...         ...   \n",
       "4405                 5          4        Medical              1        4406   \n",
       "4406                 2          4        Medical              1        4407   \n",
       "4407                25          2  Life Sciences              1        4408   \n",
       "4408                18          2        Medical              1        4409   \n",
       "4409                28          3        Medical              1        4410   \n",
       "\n",
       "      Gender  ...  NumCompaniesWorked Over18 PercentSalaryHike  StandardHours  \\\n",
       "0     Female  ...                 1.0      Y                11              8   \n",
       "1     Female  ...                 0.0      Y                23              8   \n",
       "2       Male  ...                 1.0      Y                15              8   \n",
       "3       Male  ...                 3.0      Y                11              8   \n",
       "4       Male  ...                 4.0      Y                12              8   \n",
       "...      ...  ...                 ...    ...               ...            ...   \n",
       "4405  Female  ...                 3.0      Y                17              8   \n",
       "4406    Male  ...                 2.0      Y                15              8   \n",
       "4407    Male  ...                 0.0      Y                20              8   \n",
       "4408    Male  ...                 0.0      Y                14              8   \n",
       "4409    Male  ...                 0.0      Y                12              8   \n",
       "\n",
       "      StockOptionLevel TotalWorkingYears  TrainingTimesLastYear  \\\n",
       "0                    0               1.0                      6   \n",
       "1                    1               6.0                      3   \n",
       "2                    3               5.0                      2   \n",
       "3                    3              13.0                      5   \n",
       "4                    2               9.0                      2   \n",
       "...                ...               ...                    ...   \n",
       "4405                 1              10.0                      5   \n",
       "4406                 0              10.0                      2   \n",
       "4407                 0               5.0                      4   \n",
       "4408                 1              10.0                      2   \n",
       "4409                 0               NaN                      6   \n",
       "\n",
       "      YearsAtCompany  YearsSinceLastPromotion  YearsWithCurrManager  \n",
       "0                  1                        0                     0  \n",
       "1                  5                        1                     4  \n",
       "2                  5                        0                     3  \n",
       "3                  8                        7                     5  \n",
       "4                  6                        0                     4  \n",
       "...              ...                      ...                   ...  \n",
       "4405               3                        0                     2  \n",
       "4406               3                        0                     2  \n",
       "4407               4                        1                     2  \n",
       "4408               9                        7                     8  \n",
       "4409              21                        3                     9  \n",
       "\n",
       "[4410 rows x 24 columns]>"
      ]
     },
     "execution_count": 7,
     "metadata": {},
     "output_type": "execute_result"
    }
   ],
   "source": [
    "#To get to know what all attributes our dataset consists of and displays the dataset which helps us to know what kind of data is stored and on what we have to work on.\n",
    "dataset.info"
   ]
  },
  {
   "cell_type": "code",
   "execution_count": 8,
   "metadata": {},
   "outputs": [
    {
     "data": {
      "text/html": [
       "<div>\n",
       "<style scoped>\n",
       "    .dataframe tbody tr th:only-of-type {\n",
       "        vertical-align: middle;\n",
       "    }\n",
       "\n",
       "    .dataframe tbody tr th {\n",
       "        vertical-align: top;\n",
       "    }\n",
       "\n",
       "    .dataframe thead th {\n",
       "        text-align: right;\n",
       "    }\n",
       "</style>\n",
       "<table border=\"1\" class=\"dataframe\">\n",
       "  <thead>\n",
       "    <tr style=\"text-align: right;\">\n",
       "      <th></th>\n",
       "      <th>Age</th>\n",
       "      <th>Attrition</th>\n",
       "      <th>BusinessTravel</th>\n",
       "      <th>Department</th>\n",
       "      <th>DistanceFromHome</th>\n",
       "      <th>Education</th>\n",
       "      <th>EducationField</th>\n",
       "      <th>EmployeeCount</th>\n",
       "      <th>EmployeeID</th>\n",
       "      <th>Gender</th>\n",
       "      <th>...</th>\n",
       "      <th>NumCompaniesWorked</th>\n",
       "      <th>Over18</th>\n",
       "      <th>PercentSalaryHike</th>\n",
       "      <th>StandardHours</th>\n",
       "      <th>StockOptionLevel</th>\n",
       "      <th>TotalWorkingYears</th>\n",
       "      <th>TrainingTimesLastYear</th>\n",
       "      <th>YearsAtCompany</th>\n",
       "      <th>YearsSinceLastPromotion</th>\n",
       "      <th>YearsWithCurrManager</th>\n",
       "    </tr>\n",
       "  </thead>\n",
       "  <tbody>\n",
       "    <tr>\n",
       "      <th>0</th>\n",
       "      <td>False</td>\n",
       "      <td>False</td>\n",
       "      <td>False</td>\n",
       "      <td>False</td>\n",
       "      <td>False</td>\n",
       "      <td>False</td>\n",
       "      <td>False</td>\n",
       "      <td>False</td>\n",
       "      <td>False</td>\n",
       "      <td>False</td>\n",
       "      <td>...</td>\n",
       "      <td>False</td>\n",
       "      <td>False</td>\n",
       "      <td>False</td>\n",
       "      <td>False</td>\n",
       "      <td>False</td>\n",
       "      <td>False</td>\n",
       "      <td>False</td>\n",
       "      <td>False</td>\n",
       "      <td>False</td>\n",
       "      <td>False</td>\n",
       "    </tr>\n",
       "    <tr>\n",
       "      <th>1</th>\n",
       "      <td>False</td>\n",
       "      <td>False</td>\n",
       "      <td>False</td>\n",
       "      <td>False</td>\n",
       "      <td>False</td>\n",
       "      <td>False</td>\n",
       "      <td>False</td>\n",
       "      <td>False</td>\n",
       "      <td>False</td>\n",
       "      <td>False</td>\n",
       "      <td>...</td>\n",
       "      <td>False</td>\n",
       "      <td>False</td>\n",
       "      <td>False</td>\n",
       "      <td>False</td>\n",
       "      <td>False</td>\n",
       "      <td>False</td>\n",
       "      <td>False</td>\n",
       "      <td>False</td>\n",
       "      <td>False</td>\n",
       "      <td>False</td>\n",
       "    </tr>\n",
       "    <tr>\n",
       "      <th>2</th>\n",
       "      <td>False</td>\n",
       "      <td>False</td>\n",
       "      <td>False</td>\n",
       "      <td>False</td>\n",
       "      <td>False</td>\n",
       "      <td>False</td>\n",
       "      <td>False</td>\n",
       "      <td>False</td>\n",
       "      <td>False</td>\n",
       "      <td>False</td>\n",
       "      <td>...</td>\n",
       "      <td>False</td>\n",
       "      <td>False</td>\n",
       "      <td>False</td>\n",
       "      <td>False</td>\n",
       "      <td>False</td>\n",
       "      <td>False</td>\n",
       "      <td>False</td>\n",
       "      <td>False</td>\n",
       "      <td>False</td>\n",
       "      <td>False</td>\n",
       "    </tr>\n",
       "    <tr>\n",
       "      <th>3</th>\n",
       "      <td>False</td>\n",
       "      <td>False</td>\n",
       "      <td>False</td>\n",
       "      <td>False</td>\n",
       "      <td>False</td>\n",
       "      <td>False</td>\n",
       "      <td>False</td>\n",
       "      <td>False</td>\n",
       "      <td>False</td>\n",
       "      <td>False</td>\n",
       "      <td>...</td>\n",
       "      <td>False</td>\n",
       "      <td>False</td>\n",
       "      <td>False</td>\n",
       "      <td>False</td>\n",
       "      <td>False</td>\n",
       "      <td>False</td>\n",
       "      <td>False</td>\n",
       "      <td>False</td>\n",
       "      <td>False</td>\n",
       "      <td>False</td>\n",
       "    </tr>\n",
       "    <tr>\n",
       "      <th>4</th>\n",
       "      <td>False</td>\n",
       "      <td>False</td>\n",
       "      <td>False</td>\n",
       "      <td>False</td>\n",
       "      <td>False</td>\n",
       "      <td>False</td>\n",
       "      <td>False</td>\n",
       "      <td>False</td>\n",
       "      <td>False</td>\n",
       "      <td>False</td>\n",
       "      <td>...</td>\n",
       "      <td>False</td>\n",
       "      <td>False</td>\n",
       "      <td>False</td>\n",
       "      <td>False</td>\n",
       "      <td>False</td>\n",
       "      <td>False</td>\n",
       "      <td>False</td>\n",
       "      <td>False</td>\n",
       "      <td>False</td>\n",
       "      <td>False</td>\n",
       "    </tr>\n",
       "    <tr>\n",
       "      <th>...</th>\n",
       "      <td>...</td>\n",
       "      <td>...</td>\n",
       "      <td>...</td>\n",
       "      <td>...</td>\n",
       "      <td>...</td>\n",
       "      <td>...</td>\n",
       "      <td>...</td>\n",
       "      <td>...</td>\n",
       "      <td>...</td>\n",
       "      <td>...</td>\n",
       "      <td>...</td>\n",
       "      <td>...</td>\n",
       "      <td>...</td>\n",
       "      <td>...</td>\n",
       "      <td>...</td>\n",
       "      <td>...</td>\n",
       "      <td>...</td>\n",
       "      <td>...</td>\n",
       "      <td>...</td>\n",
       "      <td>...</td>\n",
       "      <td>...</td>\n",
       "    </tr>\n",
       "    <tr>\n",
       "      <th>4405</th>\n",
       "      <td>False</td>\n",
       "      <td>False</td>\n",
       "      <td>False</td>\n",
       "      <td>False</td>\n",
       "      <td>False</td>\n",
       "      <td>False</td>\n",
       "      <td>False</td>\n",
       "      <td>False</td>\n",
       "      <td>False</td>\n",
       "      <td>False</td>\n",
       "      <td>...</td>\n",
       "      <td>False</td>\n",
       "      <td>False</td>\n",
       "      <td>False</td>\n",
       "      <td>False</td>\n",
       "      <td>False</td>\n",
       "      <td>False</td>\n",
       "      <td>False</td>\n",
       "      <td>False</td>\n",
       "      <td>False</td>\n",
       "      <td>False</td>\n",
       "    </tr>\n",
       "    <tr>\n",
       "      <th>4406</th>\n",
       "      <td>False</td>\n",
       "      <td>False</td>\n",
       "      <td>False</td>\n",
       "      <td>False</td>\n",
       "      <td>False</td>\n",
       "      <td>False</td>\n",
       "      <td>False</td>\n",
       "      <td>False</td>\n",
       "      <td>False</td>\n",
       "      <td>False</td>\n",
       "      <td>...</td>\n",
       "      <td>False</td>\n",
       "      <td>False</td>\n",
       "      <td>False</td>\n",
       "      <td>False</td>\n",
       "      <td>False</td>\n",
       "      <td>False</td>\n",
       "      <td>False</td>\n",
       "      <td>False</td>\n",
       "      <td>False</td>\n",
       "      <td>False</td>\n",
       "    </tr>\n",
       "    <tr>\n",
       "      <th>4407</th>\n",
       "      <td>False</td>\n",
       "      <td>False</td>\n",
       "      <td>False</td>\n",
       "      <td>False</td>\n",
       "      <td>False</td>\n",
       "      <td>False</td>\n",
       "      <td>False</td>\n",
       "      <td>False</td>\n",
       "      <td>False</td>\n",
       "      <td>False</td>\n",
       "      <td>...</td>\n",
       "      <td>False</td>\n",
       "      <td>False</td>\n",
       "      <td>False</td>\n",
       "      <td>False</td>\n",
       "      <td>False</td>\n",
       "      <td>False</td>\n",
       "      <td>False</td>\n",
       "      <td>False</td>\n",
       "      <td>False</td>\n",
       "      <td>False</td>\n",
       "    </tr>\n",
       "    <tr>\n",
       "      <th>4408</th>\n",
       "      <td>False</td>\n",
       "      <td>False</td>\n",
       "      <td>False</td>\n",
       "      <td>False</td>\n",
       "      <td>False</td>\n",
       "      <td>False</td>\n",
       "      <td>False</td>\n",
       "      <td>False</td>\n",
       "      <td>False</td>\n",
       "      <td>False</td>\n",
       "      <td>...</td>\n",
       "      <td>False</td>\n",
       "      <td>False</td>\n",
       "      <td>False</td>\n",
       "      <td>False</td>\n",
       "      <td>False</td>\n",
       "      <td>False</td>\n",
       "      <td>False</td>\n",
       "      <td>False</td>\n",
       "      <td>False</td>\n",
       "      <td>False</td>\n",
       "    </tr>\n",
       "    <tr>\n",
       "      <th>4409</th>\n",
       "      <td>False</td>\n",
       "      <td>False</td>\n",
       "      <td>False</td>\n",
       "      <td>False</td>\n",
       "      <td>False</td>\n",
       "      <td>False</td>\n",
       "      <td>False</td>\n",
       "      <td>False</td>\n",
       "      <td>False</td>\n",
       "      <td>False</td>\n",
       "      <td>...</td>\n",
       "      <td>False</td>\n",
       "      <td>False</td>\n",
       "      <td>False</td>\n",
       "      <td>False</td>\n",
       "      <td>False</td>\n",
       "      <td>True</td>\n",
       "      <td>False</td>\n",
       "      <td>False</td>\n",
       "      <td>False</td>\n",
       "      <td>False</td>\n",
       "    </tr>\n",
       "  </tbody>\n",
       "</table>\n",
       "<p>4410 rows × 24 columns</p>\n",
       "</div>"
      ],
      "text/plain": [
       "        Age  Attrition  BusinessTravel  Department  DistanceFromHome  \\\n",
       "0     False      False           False       False             False   \n",
       "1     False      False           False       False             False   \n",
       "2     False      False           False       False             False   \n",
       "3     False      False           False       False             False   \n",
       "4     False      False           False       False             False   \n",
       "...     ...        ...             ...         ...               ...   \n",
       "4405  False      False           False       False             False   \n",
       "4406  False      False           False       False             False   \n",
       "4407  False      False           False       False             False   \n",
       "4408  False      False           False       False             False   \n",
       "4409  False      False           False       False             False   \n",
       "\n",
       "      Education  EducationField  EmployeeCount  EmployeeID  Gender  ...  \\\n",
       "0         False           False          False       False   False  ...   \n",
       "1         False           False          False       False   False  ...   \n",
       "2         False           False          False       False   False  ...   \n",
       "3         False           False          False       False   False  ...   \n",
       "4         False           False          False       False   False  ...   \n",
       "...         ...             ...            ...         ...     ...  ...   \n",
       "4405      False           False          False       False   False  ...   \n",
       "4406      False           False          False       False   False  ...   \n",
       "4407      False           False          False       False   False  ...   \n",
       "4408      False           False          False       False   False  ...   \n",
       "4409      False           False          False       False   False  ...   \n",
       "\n",
       "      NumCompaniesWorked  Over18  PercentSalaryHike  StandardHours  \\\n",
       "0                  False   False              False          False   \n",
       "1                  False   False              False          False   \n",
       "2                  False   False              False          False   \n",
       "3                  False   False              False          False   \n",
       "4                  False   False              False          False   \n",
       "...                  ...     ...                ...            ...   \n",
       "4405               False   False              False          False   \n",
       "4406               False   False              False          False   \n",
       "4407               False   False              False          False   \n",
       "4408               False   False              False          False   \n",
       "4409               False   False              False          False   \n",
       "\n",
       "      StockOptionLevel  TotalWorkingYears  TrainingTimesLastYear  \\\n",
       "0                False              False                  False   \n",
       "1                False              False                  False   \n",
       "2                False              False                  False   \n",
       "3                False              False                  False   \n",
       "4                False              False                  False   \n",
       "...                ...                ...                    ...   \n",
       "4405             False              False                  False   \n",
       "4406             False              False                  False   \n",
       "4407             False              False                  False   \n",
       "4408             False              False                  False   \n",
       "4409             False               True                  False   \n",
       "\n",
       "      YearsAtCompany  YearsSinceLastPromotion  YearsWithCurrManager  \n",
       "0              False                    False                 False  \n",
       "1              False                    False                 False  \n",
       "2              False                    False                 False  \n",
       "3              False                    False                 False  \n",
       "4              False                    False                 False  \n",
       "...              ...                      ...                   ...  \n",
       "4405           False                    False                 False  \n",
       "4406           False                    False                 False  \n",
       "4407           False                    False                 False  \n",
       "4408           False                    False                 False  \n",
       "4409           False                    False                 False  \n",
       "\n",
       "[4410 rows x 24 columns]"
      ]
     },
     "execution_count": 8,
     "metadata": {},
     "output_type": "execute_result"
    }
   ],
   "source": [
    "#To check if our dataset consists of null values(empty record)\n",
    "dataset.isnull()"
   ]
  },
  {
   "cell_type": "code",
   "execution_count": 9,
   "metadata": {},
   "outputs": [
    {
     "data": {
      "text/html": [
       "<div>\n",
       "<style scoped>\n",
       "    .dataframe tbody tr th:only-of-type {\n",
       "        vertical-align: middle;\n",
       "    }\n",
       "\n",
       "    .dataframe tbody tr th {\n",
       "        vertical-align: top;\n",
       "    }\n",
       "\n",
       "    .dataframe thead th {\n",
       "        text-align: right;\n",
       "    }\n",
       "</style>\n",
       "<table border=\"1\" class=\"dataframe\">\n",
       "  <thead>\n",
       "    <tr style=\"text-align: right;\">\n",
       "      <th></th>\n",
       "      <th>Age</th>\n",
       "      <th>Attrition</th>\n",
       "      <th>BusinessTravel</th>\n",
       "      <th>Department</th>\n",
       "      <th>DistanceFromHome</th>\n",
       "      <th>Education</th>\n",
       "      <th>EducationField</th>\n",
       "      <th>EmployeeCount</th>\n",
       "      <th>EmployeeID</th>\n",
       "      <th>Gender</th>\n",
       "      <th>...</th>\n",
       "      <th>NumCompaniesWorked</th>\n",
       "      <th>Over18</th>\n",
       "      <th>PercentSalaryHike</th>\n",
       "      <th>StandardHours</th>\n",
       "      <th>StockOptionLevel</th>\n",
       "      <th>TotalWorkingYears</th>\n",
       "      <th>TrainingTimesLastYear</th>\n",
       "      <th>YearsAtCompany</th>\n",
       "      <th>YearsSinceLastPromotion</th>\n",
       "      <th>YearsWithCurrManager</th>\n",
       "    </tr>\n",
       "  </thead>\n",
       "  <tbody>\n",
       "    <tr>\n",
       "      <th>0</th>\n",
       "      <td>51</td>\n",
       "      <td>No</td>\n",
       "      <td>Travel_Rarely</td>\n",
       "      <td>Sales</td>\n",
       "      <td>6</td>\n",
       "      <td>2</td>\n",
       "      <td>Life Sciences</td>\n",
       "      <td>1</td>\n",
       "      <td>1</td>\n",
       "      <td>Female</td>\n",
       "      <td>...</td>\n",
       "      <td>1.0</td>\n",
       "      <td>Y</td>\n",
       "      <td>11</td>\n",
       "      <td>8</td>\n",
       "      <td>0</td>\n",
       "      <td>1.0</td>\n",
       "      <td>6</td>\n",
       "      <td>1</td>\n",
       "      <td>0</td>\n",
       "      <td>0</td>\n",
       "    </tr>\n",
       "    <tr>\n",
       "      <th>1</th>\n",
       "      <td>31</td>\n",
       "      <td>Yes</td>\n",
       "      <td>Travel_Frequently</td>\n",
       "      <td>Research &amp; Development</td>\n",
       "      <td>10</td>\n",
       "      <td>1</td>\n",
       "      <td>Life Sciences</td>\n",
       "      <td>1</td>\n",
       "      <td>2</td>\n",
       "      <td>Female</td>\n",
       "      <td>...</td>\n",
       "      <td>0.0</td>\n",
       "      <td>Y</td>\n",
       "      <td>23</td>\n",
       "      <td>8</td>\n",
       "      <td>1</td>\n",
       "      <td>6.0</td>\n",
       "      <td>3</td>\n",
       "      <td>5</td>\n",
       "      <td>1</td>\n",
       "      <td>4</td>\n",
       "    </tr>\n",
       "    <tr>\n",
       "      <th>2</th>\n",
       "      <td>32</td>\n",
       "      <td>No</td>\n",
       "      <td>Travel_Frequently</td>\n",
       "      <td>Research &amp; Development</td>\n",
       "      <td>17</td>\n",
       "      <td>4</td>\n",
       "      <td>Other</td>\n",
       "      <td>1</td>\n",
       "      <td>3</td>\n",
       "      <td>Male</td>\n",
       "      <td>...</td>\n",
       "      <td>1.0</td>\n",
       "      <td>Y</td>\n",
       "      <td>15</td>\n",
       "      <td>8</td>\n",
       "      <td>3</td>\n",
       "      <td>5.0</td>\n",
       "      <td>2</td>\n",
       "      <td>5</td>\n",
       "      <td>0</td>\n",
       "      <td>3</td>\n",
       "    </tr>\n",
       "    <tr>\n",
       "      <th>3</th>\n",
       "      <td>38</td>\n",
       "      <td>No</td>\n",
       "      <td>Non-Travel</td>\n",
       "      <td>Research &amp; Development</td>\n",
       "      <td>2</td>\n",
       "      <td>5</td>\n",
       "      <td>Life Sciences</td>\n",
       "      <td>1</td>\n",
       "      <td>4</td>\n",
       "      <td>Male</td>\n",
       "      <td>...</td>\n",
       "      <td>3.0</td>\n",
       "      <td>Y</td>\n",
       "      <td>11</td>\n",
       "      <td>8</td>\n",
       "      <td>3</td>\n",
       "      <td>13.0</td>\n",
       "      <td>5</td>\n",
       "      <td>8</td>\n",
       "      <td>7</td>\n",
       "      <td>5</td>\n",
       "    </tr>\n",
       "    <tr>\n",
       "      <th>4</th>\n",
       "      <td>32</td>\n",
       "      <td>No</td>\n",
       "      <td>Travel_Rarely</td>\n",
       "      <td>Research &amp; Development</td>\n",
       "      <td>10</td>\n",
       "      <td>1</td>\n",
       "      <td>Medical</td>\n",
       "      <td>1</td>\n",
       "      <td>5</td>\n",
       "      <td>Male</td>\n",
       "      <td>...</td>\n",
       "      <td>4.0</td>\n",
       "      <td>Y</td>\n",
       "      <td>12</td>\n",
       "      <td>8</td>\n",
       "      <td>2</td>\n",
       "      <td>9.0</td>\n",
       "      <td>2</td>\n",
       "      <td>6</td>\n",
       "      <td>0</td>\n",
       "      <td>4</td>\n",
       "    </tr>\n",
       "    <tr>\n",
       "      <th>...</th>\n",
       "      <td>...</td>\n",
       "      <td>...</td>\n",
       "      <td>...</td>\n",
       "      <td>...</td>\n",
       "      <td>...</td>\n",
       "      <td>...</td>\n",
       "      <td>...</td>\n",
       "      <td>...</td>\n",
       "      <td>...</td>\n",
       "      <td>...</td>\n",
       "      <td>...</td>\n",
       "      <td>...</td>\n",
       "      <td>...</td>\n",
       "      <td>...</td>\n",
       "      <td>...</td>\n",
       "      <td>...</td>\n",
       "      <td>...</td>\n",
       "      <td>...</td>\n",
       "      <td>...</td>\n",
       "      <td>...</td>\n",
       "      <td>...</td>\n",
       "    </tr>\n",
       "    <tr>\n",
       "      <th>4404</th>\n",
       "      <td>29</td>\n",
       "      <td>No</td>\n",
       "      <td>Travel_Rarely</td>\n",
       "      <td>Sales</td>\n",
       "      <td>4</td>\n",
       "      <td>3</td>\n",
       "      <td>Other</td>\n",
       "      <td>1</td>\n",
       "      <td>4405</td>\n",
       "      <td>Female</td>\n",
       "      <td>...</td>\n",
       "      <td>1.0</td>\n",
       "      <td>Y</td>\n",
       "      <td>18</td>\n",
       "      <td>8</td>\n",
       "      <td>0</td>\n",
       "      <td>6.0</td>\n",
       "      <td>2</td>\n",
       "      <td>6</td>\n",
       "      <td>1</td>\n",
       "      <td>5</td>\n",
       "    </tr>\n",
       "    <tr>\n",
       "      <th>4405</th>\n",
       "      <td>42</td>\n",
       "      <td>No</td>\n",
       "      <td>Travel_Rarely</td>\n",
       "      <td>Research &amp; Development</td>\n",
       "      <td>5</td>\n",
       "      <td>4</td>\n",
       "      <td>Medical</td>\n",
       "      <td>1</td>\n",
       "      <td>4406</td>\n",
       "      <td>Female</td>\n",
       "      <td>...</td>\n",
       "      <td>3.0</td>\n",
       "      <td>Y</td>\n",
       "      <td>17</td>\n",
       "      <td>8</td>\n",
       "      <td>1</td>\n",
       "      <td>10.0</td>\n",
       "      <td>5</td>\n",
       "      <td>3</td>\n",
       "      <td>0</td>\n",
       "      <td>2</td>\n",
       "    </tr>\n",
       "    <tr>\n",
       "      <th>4406</th>\n",
       "      <td>29</td>\n",
       "      <td>No</td>\n",
       "      <td>Travel_Rarely</td>\n",
       "      <td>Research &amp; Development</td>\n",
       "      <td>2</td>\n",
       "      <td>4</td>\n",
       "      <td>Medical</td>\n",
       "      <td>1</td>\n",
       "      <td>4407</td>\n",
       "      <td>Male</td>\n",
       "      <td>...</td>\n",
       "      <td>2.0</td>\n",
       "      <td>Y</td>\n",
       "      <td>15</td>\n",
       "      <td>8</td>\n",
       "      <td>0</td>\n",
       "      <td>10.0</td>\n",
       "      <td>2</td>\n",
       "      <td>3</td>\n",
       "      <td>0</td>\n",
       "      <td>2</td>\n",
       "    </tr>\n",
       "    <tr>\n",
       "      <th>4407</th>\n",
       "      <td>25</td>\n",
       "      <td>No</td>\n",
       "      <td>Travel_Rarely</td>\n",
       "      <td>Research &amp; Development</td>\n",
       "      <td>25</td>\n",
       "      <td>2</td>\n",
       "      <td>Life Sciences</td>\n",
       "      <td>1</td>\n",
       "      <td>4408</td>\n",
       "      <td>Male</td>\n",
       "      <td>...</td>\n",
       "      <td>0.0</td>\n",
       "      <td>Y</td>\n",
       "      <td>20</td>\n",
       "      <td>8</td>\n",
       "      <td>0</td>\n",
       "      <td>5.0</td>\n",
       "      <td>4</td>\n",
       "      <td>4</td>\n",
       "      <td>1</td>\n",
       "      <td>2</td>\n",
       "    </tr>\n",
       "    <tr>\n",
       "      <th>4408</th>\n",
       "      <td>42</td>\n",
       "      <td>No</td>\n",
       "      <td>Travel_Rarely</td>\n",
       "      <td>Sales</td>\n",
       "      <td>18</td>\n",
       "      <td>2</td>\n",
       "      <td>Medical</td>\n",
       "      <td>1</td>\n",
       "      <td>4409</td>\n",
       "      <td>Male</td>\n",
       "      <td>...</td>\n",
       "      <td>0.0</td>\n",
       "      <td>Y</td>\n",
       "      <td>14</td>\n",
       "      <td>8</td>\n",
       "      <td>1</td>\n",
       "      <td>10.0</td>\n",
       "      <td>2</td>\n",
       "      <td>9</td>\n",
       "      <td>7</td>\n",
       "      <td>8</td>\n",
       "    </tr>\n",
       "  </tbody>\n",
       "</table>\n",
       "<p>4382 rows × 24 columns</p>\n",
       "</div>"
      ],
      "text/plain": [
       "      Age Attrition     BusinessTravel              Department  \\\n",
       "0      51        No      Travel_Rarely                   Sales   \n",
       "1      31       Yes  Travel_Frequently  Research & Development   \n",
       "2      32        No  Travel_Frequently  Research & Development   \n",
       "3      38        No         Non-Travel  Research & Development   \n",
       "4      32        No      Travel_Rarely  Research & Development   \n",
       "...   ...       ...                ...                     ...   \n",
       "4404   29        No      Travel_Rarely                   Sales   \n",
       "4405   42        No      Travel_Rarely  Research & Development   \n",
       "4406   29        No      Travel_Rarely  Research & Development   \n",
       "4407   25        No      Travel_Rarely  Research & Development   \n",
       "4408   42        No      Travel_Rarely                   Sales   \n",
       "\n",
       "      DistanceFromHome  Education EducationField  EmployeeCount  EmployeeID  \\\n",
       "0                    6          2  Life Sciences              1           1   \n",
       "1                   10          1  Life Sciences              1           2   \n",
       "2                   17          4          Other              1           3   \n",
       "3                    2          5  Life Sciences              1           4   \n",
       "4                   10          1        Medical              1           5   \n",
       "...                ...        ...            ...            ...         ...   \n",
       "4404                 4          3          Other              1        4405   \n",
       "4405                 5          4        Medical              1        4406   \n",
       "4406                 2          4        Medical              1        4407   \n",
       "4407                25          2  Life Sciences              1        4408   \n",
       "4408                18          2        Medical              1        4409   \n",
       "\n",
       "      Gender  ...  NumCompaniesWorked Over18 PercentSalaryHike  StandardHours  \\\n",
       "0     Female  ...                 1.0      Y                11              8   \n",
       "1     Female  ...                 0.0      Y                23              8   \n",
       "2       Male  ...                 1.0      Y                15              8   \n",
       "3       Male  ...                 3.0      Y                11              8   \n",
       "4       Male  ...                 4.0      Y                12              8   \n",
       "...      ...  ...                 ...    ...               ...            ...   \n",
       "4404  Female  ...                 1.0      Y                18              8   \n",
       "4405  Female  ...                 3.0      Y                17              8   \n",
       "4406    Male  ...                 2.0      Y                15              8   \n",
       "4407    Male  ...                 0.0      Y                20              8   \n",
       "4408    Male  ...                 0.0      Y                14              8   \n",
       "\n",
       "      StockOptionLevel TotalWorkingYears  TrainingTimesLastYear  \\\n",
       "0                    0               1.0                      6   \n",
       "1                    1               6.0                      3   \n",
       "2                    3               5.0                      2   \n",
       "3                    3              13.0                      5   \n",
       "4                    2               9.0                      2   \n",
       "...                ...               ...                    ...   \n",
       "4404                 0               6.0                      2   \n",
       "4405                 1              10.0                      5   \n",
       "4406                 0              10.0                      2   \n",
       "4407                 0               5.0                      4   \n",
       "4408                 1              10.0                      2   \n",
       "\n",
       "      YearsAtCompany  YearsSinceLastPromotion  YearsWithCurrManager  \n",
       "0                  1                        0                     0  \n",
       "1                  5                        1                     4  \n",
       "2                  5                        0                     3  \n",
       "3                  8                        7                     5  \n",
       "4                  6                        0                     4  \n",
       "...              ...                      ...                   ...  \n",
       "4404               6                        1                     5  \n",
       "4405               3                        0                     2  \n",
       "4406               3                        0                     2  \n",
       "4407               4                        1                     2  \n",
       "4408               9                        7                     8  \n",
       "\n",
       "[4382 rows x 24 columns]"
      ]
     },
     "execution_count": 9,
     "metadata": {},
     "output_type": "execute_result"
    }
   ],
   "source": [
    "#It helps to drop the null values\n",
    "dataset.dropna()"
   ]
  },
  {
   "cell_type": "code",
   "execution_count": 10,
   "metadata": {},
   "outputs": [
    {
     "data": {
      "text/plain": [
       "0       False\n",
       "1       False\n",
       "2       False\n",
       "3       False\n",
       "4       False\n",
       "        ...  \n",
       "4405    False\n",
       "4406    False\n",
       "4407    False\n",
       "4408    False\n",
       "4409    False\n",
       "Length: 4410, dtype: bool"
      ]
     },
     "execution_count": 10,
     "metadata": {},
     "output_type": "execute_result"
    }
   ],
   "source": [
    "#Checks if the dataset consists of duplicated record or value\n",
    "dataset.duplicated()"
   ]
  },
  {
   "cell_type": "code",
   "execution_count": 11,
   "metadata": {},
   "outputs": [
    {
     "data": {
      "text/html": [
       "<div>\n",
       "<style scoped>\n",
       "    .dataframe tbody tr th:only-of-type {\n",
       "        vertical-align: middle;\n",
       "    }\n",
       "\n",
       "    .dataframe tbody tr th {\n",
       "        vertical-align: top;\n",
       "    }\n",
       "\n",
       "    .dataframe thead th {\n",
       "        text-align: right;\n",
       "    }\n",
       "</style>\n",
       "<table border=\"1\" class=\"dataframe\">\n",
       "  <thead>\n",
       "    <tr style=\"text-align: right;\">\n",
       "      <th></th>\n",
       "      <th>Age</th>\n",
       "      <th>Attrition</th>\n",
       "      <th>BusinessTravel</th>\n",
       "      <th>Department</th>\n",
       "      <th>DistanceFromHome</th>\n",
       "      <th>Education</th>\n",
       "      <th>EducationField</th>\n",
       "      <th>EmployeeCount</th>\n",
       "      <th>EmployeeID</th>\n",
       "      <th>Gender</th>\n",
       "      <th>...</th>\n",
       "      <th>NumCompaniesWorked</th>\n",
       "      <th>Over18</th>\n",
       "      <th>PercentSalaryHike</th>\n",
       "      <th>StandardHours</th>\n",
       "      <th>StockOptionLevel</th>\n",
       "      <th>TotalWorkingYears</th>\n",
       "      <th>TrainingTimesLastYear</th>\n",
       "      <th>YearsAtCompany</th>\n",
       "      <th>YearsSinceLastPromotion</th>\n",
       "      <th>YearsWithCurrManager</th>\n",
       "    </tr>\n",
       "  </thead>\n",
       "  <tbody>\n",
       "    <tr>\n",
       "      <th>0</th>\n",
       "      <td>51</td>\n",
       "      <td>No</td>\n",
       "      <td>Travel_Rarely</td>\n",
       "      <td>Sales</td>\n",
       "      <td>6</td>\n",
       "      <td>2</td>\n",
       "      <td>Life Sciences</td>\n",
       "      <td>1</td>\n",
       "      <td>1</td>\n",
       "      <td>Female</td>\n",
       "      <td>...</td>\n",
       "      <td>1.0</td>\n",
       "      <td>Y</td>\n",
       "      <td>11</td>\n",
       "      <td>8</td>\n",
       "      <td>0</td>\n",
       "      <td>1.0</td>\n",
       "      <td>6</td>\n",
       "      <td>1</td>\n",
       "      <td>0</td>\n",
       "      <td>0</td>\n",
       "    </tr>\n",
       "    <tr>\n",
       "      <th>1</th>\n",
       "      <td>31</td>\n",
       "      <td>Yes</td>\n",
       "      <td>Travel_Frequently</td>\n",
       "      <td>Research &amp; Development</td>\n",
       "      <td>10</td>\n",
       "      <td>1</td>\n",
       "      <td>Life Sciences</td>\n",
       "      <td>1</td>\n",
       "      <td>2</td>\n",
       "      <td>Female</td>\n",
       "      <td>...</td>\n",
       "      <td>0.0</td>\n",
       "      <td>Y</td>\n",
       "      <td>23</td>\n",
       "      <td>8</td>\n",
       "      <td>1</td>\n",
       "      <td>6.0</td>\n",
       "      <td>3</td>\n",
       "      <td>5</td>\n",
       "      <td>1</td>\n",
       "      <td>4</td>\n",
       "    </tr>\n",
       "    <tr>\n",
       "      <th>2</th>\n",
       "      <td>32</td>\n",
       "      <td>No</td>\n",
       "      <td>Travel_Frequently</td>\n",
       "      <td>Research &amp; Development</td>\n",
       "      <td>17</td>\n",
       "      <td>4</td>\n",
       "      <td>Other</td>\n",
       "      <td>1</td>\n",
       "      <td>3</td>\n",
       "      <td>Male</td>\n",
       "      <td>...</td>\n",
       "      <td>1.0</td>\n",
       "      <td>Y</td>\n",
       "      <td>15</td>\n",
       "      <td>8</td>\n",
       "      <td>3</td>\n",
       "      <td>5.0</td>\n",
       "      <td>2</td>\n",
       "      <td>5</td>\n",
       "      <td>0</td>\n",
       "      <td>3</td>\n",
       "    </tr>\n",
       "    <tr>\n",
       "      <th>3</th>\n",
       "      <td>38</td>\n",
       "      <td>No</td>\n",
       "      <td>Non-Travel</td>\n",
       "      <td>Research &amp; Development</td>\n",
       "      <td>2</td>\n",
       "      <td>5</td>\n",
       "      <td>Life Sciences</td>\n",
       "      <td>1</td>\n",
       "      <td>4</td>\n",
       "      <td>Male</td>\n",
       "      <td>...</td>\n",
       "      <td>3.0</td>\n",
       "      <td>Y</td>\n",
       "      <td>11</td>\n",
       "      <td>8</td>\n",
       "      <td>3</td>\n",
       "      <td>13.0</td>\n",
       "      <td>5</td>\n",
       "      <td>8</td>\n",
       "      <td>7</td>\n",
       "      <td>5</td>\n",
       "    </tr>\n",
       "    <tr>\n",
       "      <th>4</th>\n",
       "      <td>32</td>\n",
       "      <td>No</td>\n",
       "      <td>Travel_Rarely</td>\n",
       "      <td>Research &amp; Development</td>\n",
       "      <td>10</td>\n",
       "      <td>1</td>\n",
       "      <td>Medical</td>\n",
       "      <td>1</td>\n",
       "      <td>5</td>\n",
       "      <td>Male</td>\n",
       "      <td>...</td>\n",
       "      <td>4.0</td>\n",
       "      <td>Y</td>\n",
       "      <td>12</td>\n",
       "      <td>8</td>\n",
       "      <td>2</td>\n",
       "      <td>9.0</td>\n",
       "      <td>2</td>\n",
       "      <td>6</td>\n",
       "      <td>0</td>\n",
       "      <td>4</td>\n",
       "    </tr>\n",
       "    <tr>\n",
       "      <th>...</th>\n",
       "      <td>...</td>\n",
       "      <td>...</td>\n",
       "      <td>...</td>\n",
       "      <td>...</td>\n",
       "      <td>...</td>\n",
       "      <td>...</td>\n",
       "      <td>...</td>\n",
       "      <td>...</td>\n",
       "      <td>...</td>\n",
       "      <td>...</td>\n",
       "      <td>...</td>\n",
       "      <td>...</td>\n",
       "      <td>...</td>\n",
       "      <td>...</td>\n",
       "      <td>...</td>\n",
       "      <td>...</td>\n",
       "      <td>...</td>\n",
       "      <td>...</td>\n",
       "      <td>...</td>\n",
       "      <td>...</td>\n",
       "      <td>...</td>\n",
       "    </tr>\n",
       "    <tr>\n",
       "      <th>4405</th>\n",
       "      <td>42</td>\n",
       "      <td>No</td>\n",
       "      <td>Travel_Rarely</td>\n",
       "      <td>Research &amp; Development</td>\n",
       "      <td>5</td>\n",
       "      <td>4</td>\n",
       "      <td>Medical</td>\n",
       "      <td>1</td>\n",
       "      <td>4406</td>\n",
       "      <td>Female</td>\n",
       "      <td>...</td>\n",
       "      <td>3.0</td>\n",
       "      <td>Y</td>\n",
       "      <td>17</td>\n",
       "      <td>8</td>\n",
       "      <td>1</td>\n",
       "      <td>10.0</td>\n",
       "      <td>5</td>\n",
       "      <td>3</td>\n",
       "      <td>0</td>\n",
       "      <td>2</td>\n",
       "    </tr>\n",
       "    <tr>\n",
       "      <th>4406</th>\n",
       "      <td>29</td>\n",
       "      <td>No</td>\n",
       "      <td>Travel_Rarely</td>\n",
       "      <td>Research &amp; Development</td>\n",
       "      <td>2</td>\n",
       "      <td>4</td>\n",
       "      <td>Medical</td>\n",
       "      <td>1</td>\n",
       "      <td>4407</td>\n",
       "      <td>Male</td>\n",
       "      <td>...</td>\n",
       "      <td>2.0</td>\n",
       "      <td>Y</td>\n",
       "      <td>15</td>\n",
       "      <td>8</td>\n",
       "      <td>0</td>\n",
       "      <td>10.0</td>\n",
       "      <td>2</td>\n",
       "      <td>3</td>\n",
       "      <td>0</td>\n",
       "      <td>2</td>\n",
       "    </tr>\n",
       "    <tr>\n",
       "      <th>4407</th>\n",
       "      <td>25</td>\n",
       "      <td>No</td>\n",
       "      <td>Travel_Rarely</td>\n",
       "      <td>Research &amp; Development</td>\n",
       "      <td>25</td>\n",
       "      <td>2</td>\n",
       "      <td>Life Sciences</td>\n",
       "      <td>1</td>\n",
       "      <td>4408</td>\n",
       "      <td>Male</td>\n",
       "      <td>...</td>\n",
       "      <td>0.0</td>\n",
       "      <td>Y</td>\n",
       "      <td>20</td>\n",
       "      <td>8</td>\n",
       "      <td>0</td>\n",
       "      <td>5.0</td>\n",
       "      <td>4</td>\n",
       "      <td>4</td>\n",
       "      <td>1</td>\n",
       "      <td>2</td>\n",
       "    </tr>\n",
       "    <tr>\n",
       "      <th>4408</th>\n",
       "      <td>42</td>\n",
       "      <td>No</td>\n",
       "      <td>Travel_Rarely</td>\n",
       "      <td>Sales</td>\n",
       "      <td>18</td>\n",
       "      <td>2</td>\n",
       "      <td>Medical</td>\n",
       "      <td>1</td>\n",
       "      <td>4409</td>\n",
       "      <td>Male</td>\n",
       "      <td>...</td>\n",
       "      <td>0.0</td>\n",
       "      <td>Y</td>\n",
       "      <td>14</td>\n",
       "      <td>8</td>\n",
       "      <td>1</td>\n",
       "      <td>10.0</td>\n",
       "      <td>2</td>\n",
       "      <td>9</td>\n",
       "      <td>7</td>\n",
       "      <td>8</td>\n",
       "    </tr>\n",
       "    <tr>\n",
       "      <th>4409</th>\n",
       "      <td>40</td>\n",
       "      <td>No</td>\n",
       "      <td>Travel_Rarely</td>\n",
       "      <td>Research &amp; Development</td>\n",
       "      <td>28</td>\n",
       "      <td>3</td>\n",
       "      <td>Medical</td>\n",
       "      <td>1</td>\n",
       "      <td>4410</td>\n",
       "      <td>Male</td>\n",
       "      <td>...</td>\n",
       "      <td>0.0</td>\n",
       "      <td>Y</td>\n",
       "      <td>12</td>\n",
       "      <td>8</td>\n",
       "      <td>0</td>\n",
       "      <td>NaN</td>\n",
       "      <td>6</td>\n",
       "      <td>21</td>\n",
       "      <td>3</td>\n",
       "      <td>9</td>\n",
       "    </tr>\n",
       "  </tbody>\n",
       "</table>\n",
       "<p>4410 rows × 24 columns</p>\n",
       "</div>"
      ],
      "text/plain": [
       "      Age Attrition     BusinessTravel              Department  \\\n",
       "0      51        No      Travel_Rarely                   Sales   \n",
       "1      31       Yes  Travel_Frequently  Research & Development   \n",
       "2      32        No  Travel_Frequently  Research & Development   \n",
       "3      38        No         Non-Travel  Research & Development   \n",
       "4      32        No      Travel_Rarely  Research & Development   \n",
       "...   ...       ...                ...                     ...   \n",
       "4405   42        No      Travel_Rarely  Research & Development   \n",
       "4406   29        No      Travel_Rarely  Research & Development   \n",
       "4407   25        No      Travel_Rarely  Research & Development   \n",
       "4408   42        No      Travel_Rarely                   Sales   \n",
       "4409   40        No      Travel_Rarely  Research & Development   \n",
       "\n",
       "      DistanceFromHome  Education EducationField  EmployeeCount  EmployeeID  \\\n",
       "0                    6          2  Life Sciences              1           1   \n",
       "1                   10          1  Life Sciences              1           2   \n",
       "2                   17          4          Other              1           3   \n",
       "3                    2          5  Life Sciences              1           4   \n",
       "4                   10          1        Medical              1           5   \n",
       "...                ...        ...            ...            ...         ...   \n",
       "4405                 5          4        Medical              1        4406   \n",
       "4406                 2          4        Medical              1        4407   \n",
       "4407                25          2  Life Sciences              1        4408   \n",
       "4408                18          2        Medical              1        4409   \n",
       "4409                28          3        Medical              1        4410   \n",
       "\n",
       "      Gender  ...  NumCompaniesWorked Over18 PercentSalaryHike  StandardHours  \\\n",
       "0     Female  ...                 1.0      Y                11              8   \n",
       "1     Female  ...                 0.0      Y                23              8   \n",
       "2       Male  ...                 1.0      Y                15              8   \n",
       "3       Male  ...                 3.0      Y                11              8   \n",
       "4       Male  ...                 4.0      Y                12              8   \n",
       "...      ...  ...                 ...    ...               ...            ...   \n",
       "4405  Female  ...                 3.0      Y                17              8   \n",
       "4406    Male  ...                 2.0      Y                15              8   \n",
       "4407    Male  ...                 0.0      Y                20              8   \n",
       "4408    Male  ...                 0.0      Y                14              8   \n",
       "4409    Male  ...                 0.0      Y                12              8   \n",
       "\n",
       "      StockOptionLevel TotalWorkingYears  TrainingTimesLastYear  \\\n",
       "0                    0               1.0                      6   \n",
       "1                    1               6.0                      3   \n",
       "2                    3               5.0                      2   \n",
       "3                    3              13.0                      5   \n",
       "4                    2               9.0                      2   \n",
       "...                ...               ...                    ...   \n",
       "4405                 1              10.0                      5   \n",
       "4406                 0              10.0                      2   \n",
       "4407                 0               5.0                      4   \n",
       "4408                 1              10.0                      2   \n",
       "4409                 0               NaN                      6   \n",
       "\n",
       "      YearsAtCompany  YearsSinceLastPromotion  YearsWithCurrManager  \n",
       "0                  1                        0                     0  \n",
       "1                  5                        1                     4  \n",
       "2                  5                        0                     3  \n",
       "3                  8                        7                     5  \n",
       "4                  6                        0                     4  \n",
       "...              ...                      ...                   ...  \n",
       "4405               3                        0                     2  \n",
       "4406               3                        0                     2  \n",
       "4407               4                        1                     2  \n",
       "4408               9                        7                     8  \n",
       "4409              21                        3                     9  \n",
       "\n",
       "[4410 rows x 24 columns]"
      ]
     },
     "execution_count": 11,
     "metadata": {},
     "output_type": "execute_result"
    }
   ],
   "source": [
    "#This helps to drop if there are any duplicated or repeated records from the dataset\n",
    "dataset.drop_duplicates()"
   ]
  },
  {
   "cell_type": "code",
   "execution_count": 12,
   "metadata": {},
   "outputs": [
    {
     "data": {
      "text/html": [
       "<div>\n",
       "<style scoped>\n",
       "    .dataframe tbody tr th:only-of-type {\n",
       "        vertical-align: middle;\n",
       "    }\n",
       "\n",
       "    .dataframe tbody tr th {\n",
       "        vertical-align: top;\n",
       "    }\n",
       "\n",
       "    .dataframe thead th {\n",
       "        text-align: right;\n",
       "    }\n",
       "</style>\n",
       "<table border=\"1\" class=\"dataframe\">\n",
       "  <thead>\n",
       "    <tr style=\"text-align: right;\">\n",
       "      <th></th>\n",
       "      <th>Age</th>\n",
       "      <th>DistanceFromHome</th>\n",
       "      <th>Education</th>\n",
       "      <th>EmployeeCount</th>\n",
       "      <th>EmployeeID</th>\n",
       "      <th>JobLevel</th>\n",
       "      <th>MonthlyIncome</th>\n",
       "      <th>NumCompaniesWorked</th>\n",
       "      <th>PercentSalaryHike</th>\n",
       "      <th>StandardHours</th>\n",
       "      <th>StockOptionLevel</th>\n",
       "      <th>TotalWorkingYears</th>\n",
       "      <th>TrainingTimesLastYear</th>\n",
       "      <th>YearsAtCompany</th>\n",
       "      <th>YearsSinceLastPromotion</th>\n",
       "      <th>YearsWithCurrManager</th>\n",
       "    </tr>\n",
       "  </thead>\n",
       "  <tbody>\n",
       "    <tr>\n",
       "      <th>count</th>\n",
       "      <td>4410.000000</td>\n",
       "      <td>4410.000000</td>\n",
       "      <td>4410.000000</td>\n",
       "      <td>4410.0</td>\n",
       "      <td>4410.000000</td>\n",
       "      <td>4410.000000</td>\n",
       "      <td>4410.000000</td>\n",
       "      <td>4391.000000</td>\n",
       "      <td>4410.000000</td>\n",
       "      <td>4410.0</td>\n",
       "      <td>4410.000000</td>\n",
       "      <td>4401.000000</td>\n",
       "      <td>4410.000000</td>\n",
       "      <td>4410.000000</td>\n",
       "      <td>4410.000000</td>\n",
       "      <td>4410.000000</td>\n",
       "    </tr>\n",
       "    <tr>\n",
       "      <th>mean</th>\n",
       "      <td>36.923810</td>\n",
       "      <td>9.192517</td>\n",
       "      <td>2.912925</td>\n",
       "      <td>1.0</td>\n",
       "      <td>2205.500000</td>\n",
       "      <td>2.063946</td>\n",
       "      <td>65029.312925</td>\n",
       "      <td>2.694830</td>\n",
       "      <td>15.209524</td>\n",
       "      <td>8.0</td>\n",
       "      <td>0.793878</td>\n",
       "      <td>11.279936</td>\n",
       "      <td>2.799320</td>\n",
       "      <td>7.008163</td>\n",
       "      <td>2.187755</td>\n",
       "      <td>4.123129</td>\n",
       "    </tr>\n",
       "    <tr>\n",
       "      <th>std</th>\n",
       "      <td>9.133301</td>\n",
       "      <td>8.105026</td>\n",
       "      <td>1.023933</td>\n",
       "      <td>0.0</td>\n",
       "      <td>1273.201673</td>\n",
       "      <td>1.106689</td>\n",
       "      <td>47068.888559</td>\n",
       "      <td>2.498887</td>\n",
       "      <td>3.659108</td>\n",
       "      <td>0.0</td>\n",
       "      <td>0.851883</td>\n",
       "      <td>7.782222</td>\n",
       "      <td>1.288978</td>\n",
       "      <td>6.125135</td>\n",
       "      <td>3.221699</td>\n",
       "      <td>3.567327</td>\n",
       "    </tr>\n",
       "    <tr>\n",
       "      <th>min</th>\n",
       "      <td>18.000000</td>\n",
       "      <td>1.000000</td>\n",
       "      <td>1.000000</td>\n",
       "      <td>1.0</td>\n",
       "      <td>1.000000</td>\n",
       "      <td>1.000000</td>\n",
       "      <td>10090.000000</td>\n",
       "      <td>0.000000</td>\n",
       "      <td>11.000000</td>\n",
       "      <td>8.0</td>\n",
       "      <td>0.000000</td>\n",
       "      <td>0.000000</td>\n",
       "      <td>0.000000</td>\n",
       "      <td>0.000000</td>\n",
       "      <td>0.000000</td>\n",
       "      <td>0.000000</td>\n",
       "    </tr>\n",
       "    <tr>\n",
       "      <th>25%</th>\n",
       "      <td>30.000000</td>\n",
       "      <td>2.000000</td>\n",
       "      <td>2.000000</td>\n",
       "      <td>1.0</td>\n",
       "      <td>1103.250000</td>\n",
       "      <td>1.000000</td>\n",
       "      <td>29110.000000</td>\n",
       "      <td>1.000000</td>\n",
       "      <td>12.000000</td>\n",
       "      <td>8.0</td>\n",
       "      <td>0.000000</td>\n",
       "      <td>6.000000</td>\n",
       "      <td>2.000000</td>\n",
       "      <td>3.000000</td>\n",
       "      <td>0.000000</td>\n",
       "      <td>2.000000</td>\n",
       "    </tr>\n",
       "    <tr>\n",
       "      <th>50%</th>\n",
       "      <td>36.000000</td>\n",
       "      <td>7.000000</td>\n",
       "      <td>3.000000</td>\n",
       "      <td>1.0</td>\n",
       "      <td>2205.500000</td>\n",
       "      <td>2.000000</td>\n",
       "      <td>49190.000000</td>\n",
       "      <td>2.000000</td>\n",
       "      <td>14.000000</td>\n",
       "      <td>8.0</td>\n",
       "      <td>1.000000</td>\n",
       "      <td>10.000000</td>\n",
       "      <td>3.000000</td>\n",
       "      <td>5.000000</td>\n",
       "      <td>1.000000</td>\n",
       "      <td>3.000000</td>\n",
       "    </tr>\n",
       "    <tr>\n",
       "      <th>75%</th>\n",
       "      <td>43.000000</td>\n",
       "      <td>14.000000</td>\n",
       "      <td>4.000000</td>\n",
       "      <td>1.0</td>\n",
       "      <td>3307.750000</td>\n",
       "      <td>3.000000</td>\n",
       "      <td>83800.000000</td>\n",
       "      <td>4.000000</td>\n",
       "      <td>18.000000</td>\n",
       "      <td>8.0</td>\n",
       "      <td>1.000000</td>\n",
       "      <td>15.000000</td>\n",
       "      <td>3.000000</td>\n",
       "      <td>9.000000</td>\n",
       "      <td>3.000000</td>\n",
       "      <td>7.000000</td>\n",
       "    </tr>\n",
       "    <tr>\n",
       "      <th>max</th>\n",
       "      <td>60.000000</td>\n",
       "      <td>29.000000</td>\n",
       "      <td>5.000000</td>\n",
       "      <td>1.0</td>\n",
       "      <td>4410.000000</td>\n",
       "      <td>5.000000</td>\n",
       "      <td>199990.000000</td>\n",
       "      <td>9.000000</td>\n",
       "      <td>25.000000</td>\n",
       "      <td>8.0</td>\n",
       "      <td>3.000000</td>\n",
       "      <td>40.000000</td>\n",
       "      <td>6.000000</td>\n",
       "      <td>40.000000</td>\n",
       "      <td>15.000000</td>\n",
       "      <td>17.000000</td>\n",
       "    </tr>\n",
       "  </tbody>\n",
       "</table>\n",
       "</div>"
      ],
      "text/plain": [
       "               Age  DistanceFromHome    Education  EmployeeCount   EmployeeID  \\\n",
       "count  4410.000000       4410.000000  4410.000000         4410.0  4410.000000   \n",
       "mean     36.923810          9.192517     2.912925            1.0  2205.500000   \n",
       "std       9.133301          8.105026     1.023933            0.0  1273.201673   \n",
       "min      18.000000          1.000000     1.000000            1.0     1.000000   \n",
       "25%      30.000000          2.000000     2.000000            1.0  1103.250000   \n",
       "50%      36.000000          7.000000     3.000000            1.0  2205.500000   \n",
       "75%      43.000000         14.000000     4.000000            1.0  3307.750000   \n",
       "max      60.000000         29.000000     5.000000            1.0  4410.000000   \n",
       "\n",
       "          JobLevel  MonthlyIncome  NumCompaniesWorked  PercentSalaryHike  \\\n",
       "count  4410.000000    4410.000000         4391.000000        4410.000000   \n",
       "mean      2.063946   65029.312925            2.694830          15.209524   \n",
       "std       1.106689   47068.888559            2.498887           3.659108   \n",
       "min       1.000000   10090.000000            0.000000          11.000000   \n",
       "25%       1.000000   29110.000000            1.000000          12.000000   \n",
       "50%       2.000000   49190.000000            2.000000          14.000000   \n",
       "75%       3.000000   83800.000000            4.000000          18.000000   \n",
       "max       5.000000  199990.000000            9.000000          25.000000   \n",
       "\n",
       "       StandardHours  StockOptionLevel  TotalWorkingYears  \\\n",
       "count         4410.0       4410.000000        4401.000000   \n",
       "mean             8.0          0.793878          11.279936   \n",
       "std              0.0          0.851883           7.782222   \n",
       "min              8.0          0.000000           0.000000   \n",
       "25%              8.0          0.000000           6.000000   \n",
       "50%              8.0          1.000000          10.000000   \n",
       "75%              8.0          1.000000          15.000000   \n",
       "max              8.0          3.000000          40.000000   \n",
       "\n",
       "       TrainingTimesLastYear  YearsAtCompany  YearsSinceLastPromotion  \\\n",
       "count            4410.000000     4410.000000              4410.000000   \n",
       "mean                2.799320        7.008163                 2.187755   \n",
       "std                 1.288978        6.125135                 3.221699   \n",
       "min                 0.000000        0.000000                 0.000000   \n",
       "25%                 2.000000        3.000000                 0.000000   \n",
       "50%                 3.000000        5.000000                 1.000000   \n",
       "75%                 3.000000        9.000000                 3.000000   \n",
       "max                 6.000000       40.000000                15.000000   \n",
       "\n",
       "       YearsWithCurrManager  \n",
       "count           4410.000000  \n",
       "mean               4.123129  \n",
       "std                3.567327  \n",
       "min                0.000000  \n",
       "25%                2.000000  \n",
       "50%                3.000000  \n",
       "75%                7.000000  \n",
       "max               17.000000  "
      ]
     },
     "execution_count": 12,
     "metadata": {},
     "output_type": "execute_result"
    }
   ],
   "source": [
    "#Univariate Analysis(calculating the mean ,median,mode,skewness,kurtosis)\n",
    "\n",
    "dataset.describe()    #describe() displays the summarization of data in one shot.\n"
   ]
  },
  {
   "cell_type": "code",
   "execution_count": 13,
   "metadata": {},
   "outputs": [
    {
     "data": {
      "text/plain": [
       "Age                           36.0\n",
       "DistanceFromHome               7.0\n",
       "Education                      3.0\n",
       "EmployeeCount                  1.0\n",
       "EmployeeID                  2205.5\n",
       "JobLevel                       2.0\n",
       "MonthlyIncome              49190.0\n",
       "NumCompaniesWorked             2.0\n",
       "PercentSalaryHike             14.0\n",
       "StandardHours                  8.0\n",
       "StockOptionLevel               1.0\n",
       "TotalWorkingYears             10.0\n",
       "TrainingTimesLastYear          3.0\n",
       "YearsAtCompany                 5.0\n",
       "YearsSinceLastPromotion        1.0\n",
       "YearsWithCurrManager           3.0\n",
       "dtype: float64"
      ]
     },
     "execution_count": 13,
     "metadata": {},
     "output_type": "execute_result"
    }
   ],
   "source": [
    "# Median basically is the middle point,divides data into lower half from the higher half\n",
    "dataset.median()"
   ]
  },
  {
   "cell_type": "code",
   "execution_count": 14,
   "metadata": {},
   "outputs": [
    {
     "data": {
      "text/plain": [
       "Age                        8.341719e+01\n",
       "DistanceFromHome           6.569144e+01\n",
       "Education                  1.048438e+00\n",
       "EmployeeCount              0.000000e+00\n",
       "EmployeeID                 1.621042e+06\n",
       "JobLevel                   1.224760e+00\n",
       "MonthlyIncome              2.215480e+09\n",
       "NumCompaniesWorked         6.244436e+00\n",
       "PercentSalaryHike          1.338907e+01\n",
       "StandardHours              0.000000e+00\n",
       "StockOptionLevel           7.257053e-01\n",
       "TotalWorkingYears          6.056298e+01\n",
       "TrainingTimesLastYear      1.661465e+00\n",
       "YearsAtCompany             3.751728e+01\n",
       "YearsSinceLastPromotion    1.037935e+01\n",
       "YearsWithCurrManager       1.272582e+01\n",
       "dtype: float64"
      ]
     },
     "execution_count": 14,
     "metadata": {},
     "output_type": "execute_result"
    }
   ],
   "source": [
    "#Variance is the measure of varibility of the data(how the data points vary from the average value  and how the data point vary from eachother).\n",
    "dataset.var() "
   ]
  },
  {
   "cell_type": "code",
   "execution_count": 15,
   "metadata": {},
   "outputs": [
    {
     "data": {
      "text/plain": [
       "Age                            9.133301\n",
       "DistanceFromHome               8.105026\n",
       "Education                      1.023933\n",
       "EmployeeCount                  0.000000\n",
       "EmployeeID                  1273.201673\n",
       "JobLevel                       1.106689\n",
       "MonthlyIncome              47068.888559\n",
       "NumCompaniesWorked             2.498887\n",
       "PercentSalaryHike              3.659108\n",
       "StandardHours                  0.000000\n",
       "StockOptionLevel               0.851883\n",
       "TotalWorkingYears              7.782222\n",
       "TrainingTimesLastYear          1.288978\n",
       "YearsAtCompany                 6.125135\n",
       "YearsSinceLastPromotion        3.221699\n",
       "YearsWithCurrManager           3.567327\n",
       "dtype: float64"
      ]
     },
     "execution_count": 15,
     "metadata": {},
     "output_type": "execute_result"
    }
   ],
   "source": [
    "#standard deviation is the spread out of data from the mean .If the SD is low that means more points are closer to mean n data is consistent.\n",
    "dataset.std()    "
   ]
  },
  {
   "cell_type": "code",
   "execution_count": 16,
   "metadata": {},
   "outputs": [
    {
     "data": {
      "text/html": [
       "<div>\n",
       "<style scoped>\n",
       "    .dataframe tbody tr th:only-of-type {\n",
       "        vertical-align: middle;\n",
       "    }\n",
       "\n",
       "    .dataframe tbody tr th {\n",
       "        vertical-align: top;\n",
       "    }\n",
       "\n",
       "    .dataframe thead th {\n",
       "        text-align: right;\n",
       "    }\n",
       "</style>\n",
       "<table border=\"1\" class=\"dataframe\">\n",
       "  <thead>\n",
       "    <tr style=\"text-align: right;\">\n",
       "      <th></th>\n",
       "      <th>Age</th>\n",
       "      <th>Attrition</th>\n",
       "      <th>BusinessTravel</th>\n",
       "      <th>Department</th>\n",
       "      <th>DistanceFromHome</th>\n",
       "      <th>Education</th>\n",
       "      <th>EducationField</th>\n",
       "      <th>EmployeeCount</th>\n",
       "      <th>EmployeeID</th>\n",
       "      <th>Gender</th>\n",
       "      <th>...</th>\n",
       "      <th>NumCompaniesWorked</th>\n",
       "      <th>Over18</th>\n",
       "      <th>PercentSalaryHike</th>\n",
       "      <th>StandardHours</th>\n",
       "      <th>StockOptionLevel</th>\n",
       "      <th>TotalWorkingYears</th>\n",
       "      <th>TrainingTimesLastYear</th>\n",
       "      <th>YearsAtCompany</th>\n",
       "      <th>YearsSinceLastPromotion</th>\n",
       "      <th>YearsWithCurrManager</th>\n",
       "    </tr>\n",
       "  </thead>\n",
       "  <tbody>\n",
       "    <tr>\n",
       "      <th>0</th>\n",
       "      <td>35.0</td>\n",
       "      <td>No</td>\n",
       "      <td>Travel_Rarely</td>\n",
       "      <td>Research &amp; Development</td>\n",
       "      <td>2.0</td>\n",
       "      <td>3.0</td>\n",
       "      <td>Life Sciences</td>\n",
       "      <td>1.0</td>\n",
       "      <td>1</td>\n",
       "      <td>Male</td>\n",
       "      <td>...</td>\n",
       "      <td>1.0</td>\n",
       "      <td>Y</td>\n",
       "      <td>11.0</td>\n",
       "      <td>8.0</td>\n",
       "      <td>0.0</td>\n",
       "      <td>10.0</td>\n",
       "      <td>2.0</td>\n",
       "      <td>5.0</td>\n",
       "      <td>0.0</td>\n",
       "      <td>2.0</td>\n",
       "    </tr>\n",
       "    <tr>\n",
       "      <th>1</th>\n",
       "      <td>NaN</td>\n",
       "      <td>NaN</td>\n",
       "      <td>NaN</td>\n",
       "      <td>NaN</td>\n",
       "      <td>NaN</td>\n",
       "      <td>NaN</td>\n",
       "      <td>NaN</td>\n",
       "      <td>NaN</td>\n",
       "      <td>2</td>\n",
       "      <td>NaN</td>\n",
       "      <td>...</td>\n",
       "      <td>NaN</td>\n",
       "      <td>NaN</td>\n",
       "      <td>NaN</td>\n",
       "      <td>NaN</td>\n",
       "      <td>NaN</td>\n",
       "      <td>NaN</td>\n",
       "      <td>NaN</td>\n",
       "      <td>NaN</td>\n",
       "      <td>NaN</td>\n",
       "      <td>NaN</td>\n",
       "    </tr>\n",
       "    <tr>\n",
       "      <th>2</th>\n",
       "      <td>NaN</td>\n",
       "      <td>NaN</td>\n",
       "      <td>NaN</td>\n",
       "      <td>NaN</td>\n",
       "      <td>NaN</td>\n",
       "      <td>NaN</td>\n",
       "      <td>NaN</td>\n",
       "      <td>NaN</td>\n",
       "      <td>3</td>\n",
       "      <td>NaN</td>\n",
       "      <td>...</td>\n",
       "      <td>NaN</td>\n",
       "      <td>NaN</td>\n",
       "      <td>NaN</td>\n",
       "      <td>NaN</td>\n",
       "      <td>NaN</td>\n",
       "      <td>NaN</td>\n",
       "      <td>NaN</td>\n",
       "      <td>NaN</td>\n",
       "      <td>NaN</td>\n",
       "      <td>NaN</td>\n",
       "    </tr>\n",
       "    <tr>\n",
       "      <th>3</th>\n",
       "      <td>NaN</td>\n",
       "      <td>NaN</td>\n",
       "      <td>NaN</td>\n",
       "      <td>NaN</td>\n",
       "      <td>NaN</td>\n",
       "      <td>NaN</td>\n",
       "      <td>NaN</td>\n",
       "      <td>NaN</td>\n",
       "      <td>4</td>\n",
       "      <td>NaN</td>\n",
       "      <td>...</td>\n",
       "      <td>NaN</td>\n",
       "      <td>NaN</td>\n",
       "      <td>NaN</td>\n",
       "      <td>NaN</td>\n",
       "      <td>NaN</td>\n",
       "      <td>NaN</td>\n",
       "      <td>NaN</td>\n",
       "      <td>NaN</td>\n",
       "      <td>NaN</td>\n",
       "      <td>NaN</td>\n",
       "    </tr>\n",
       "    <tr>\n",
       "      <th>4</th>\n",
       "      <td>NaN</td>\n",
       "      <td>NaN</td>\n",
       "      <td>NaN</td>\n",
       "      <td>NaN</td>\n",
       "      <td>NaN</td>\n",
       "      <td>NaN</td>\n",
       "      <td>NaN</td>\n",
       "      <td>NaN</td>\n",
       "      <td>5</td>\n",
       "      <td>NaN</td>\n",
       "      <td>...</td>\n",
       "      <td>NaN</td>\n",
       "      <td>NaN</td>\n",
       "      <td>NaN</td>\n",
       "      <td>NaN</td>\n",
       "      <td>NaN</td>\n",
       "      <td>NaN</td>\n",
       "      <td>NaN</td>\n",
       "      <td>NaN</td>\n",
       "      <td>NaN</td>\n",
       "      <td>NaN</td>\n",
       "    </tr>\n",
       "    <tr>\n",
       "      <th>...</th>\n",
       "      <td>...</td>\n",
       "      <td>...</td>\n",
       "      <td>...</td>\n",
       "      <td>...</td>\n",
       "      <td>...</td>\n",
       "      <td>...</td>\n",
       "      <td>...</td>\n",
       "      <td>...</td>\n",
       "      <td>...</td>\n",
       "      <td>...</td>\n",
       "      <td>...</td>\n",
       "      <td>...</td>\n",
       "      <td>...</td>\n",
       "      <td>...</td>\n",
       "      <td>...</td>\n",
       "      <td>...</td>\n",
       "      <td>...</td>\n",
       "      <td>...</td>\n",
       "      <td>...</td>\n",
       "      <td>...</td>\n",
       "      <td>...</td>\n",
       "    </tr>\n",
       "    <tr>\n",
       "      <th>4405</th>\n",
       "      <td>NaN</td>\n",
       "      <td>NaN</td>\n",
       "      <td>NaN</td>\n",
       "      <td>NaN</td>\n",
       "      <td>NaN</td>\n",
       "      <td>NaN</td>\n",
       "      <td>NaN</td>\n",
       "      <td>NaN</td>\n",
       "      <td>4406</td>\n",
       "      <td>NaN</td>\n",
       "      <td>...</td>\n",
       "      <td>NaN</td>\n",
       "      <td>NaN</td>\n",
       "      <td>NaN</td>\n",
       "      <td>NaN</td>\n",
       "      <td>NaN</td>\n",
       "      <td>NaN</td>\n",
       "      <td>NaN</td>\n",
       "      <td>NaN</td>\n",
       "      <td>NaN</td>\n",
       "      <td>NaN</td>\n",
       "    </tr>\n",
       "    <tr>\n",
       "      <th>4406</th>\n",
       "      <td>NaN</td>\n",
       "      <td>NaN</td>\n",
       "      <td>NaN</td>\n",
       "      <td>NaN</td>\n",
       "      <td>NaN</td>\n",
       "      <td>NaN</td>\n",
       "      <td>NaN</td>\n",
       "      <td>NaN</td>\n",
       "      <td>4407</td>\n",
       "      <td>NaN</td>\n",
       "      <td>...</td>\n",
       "      <td>NaN</td>\n",
       "      <td>NaN</td>\n",
       "      <td>NaN</td>\n",
       "      <td>NaN</td>\n",
       "      <td>NaN</td>\n",
       "      <td>NaN</td>\n",
       "      <td>NaN</td>\n",
       "      <td>NaN</td>\n",
       "      <td>NaN</td>\n",
       "      <td>NaN</td>\n",
       "    </tr>\n",
       "    <tr>\n",
       "      <th>4407</th>\n",
       "      <td>NaN</td>\n",
       "      <td>NaN</td>\n",
       "      <td>NaN</td>\n",
       "      <td>NaN</td>\n",
       "      <td>NaN</td>\n",
       "      <td>NaN</td>\n",
       "      <td>NaN</td>\n",
       "      <td>NaN</td>\n",
       "      <td>4408</td>\n",
       "      <td>NaN</td>\n",
       "      <td>...</td>\n",
       "      <td>NaN</td>\n",
       "      <td>NaN</td>\n",
       "      <td>NaN</td>\n",
       "      <td>NaN</td>\n",
       "      <td>NaN</td>\n",
       "      <td>NaN</td>\n",
       "      <td>NaN</td>\n",
       "      <td>NaN</td>\n",
       "      <td>NaN</td>\n",
       "      <td>NaN</td>\n",
       "    </tr>\n",
       "    <tr>\n",
       "      <th>4408</th>\n",
       "      <td>NaN</td>\n",
       "      <td>NaN</td>\n",
       "      <td>NaN</td>\n",
       "      <td>NaN</td>\n",
       "      <td>NaN</td>\n",
       "      <td>NaN</td>\n",
       "      <td>NaN</td>\n",
       "      <td>NaN</td>\n",
       "      <td>4409</td>\n",
       "      <td>NaN</td>\n",
       "      <td>...</td>\n",
       "      <td>NaN</td>\n",
       "      <td>NaN</td>\n",
       "      <td>NaN</td>\n",
       "      <td>NaN</td>\n",
       "      <td>NaN</td>\n",
       "      <td>NaN</td>\n",
       "      <td>NaN</td>\n",
       "      <td>NaN</td>\n",
       "      <td>NaN</td>\n",
       "      <td>NaN</td>\n",
       "    </tr>\n",
       "    <tr>\n",
       "      <th>4409</th>\n",
       "      <td>NaN</td>\n",
       "      <td>NaN</td>\n",
       "      <td>NaN</td>\n",
       "      <td>NaN</td>\n",
       "      <td>NaN</td>\n",
       "      <td>NaN</td>\n",
       "      <td>NaN</td>\n",
       "      <td>NaN</td>\n",
       "      <td>4410</td>\n",
       "      <td>NaN</td>\n",
       "      <td>...</td>\n",
       "      <td>NaN</td>\n",
       "      <td>NaN</td>\n",
       "      <td>NaN</td>\n",
       "      <td>NaN</td>\n",
       "      <td>NaN</td>\n",
       "      <td>NaN</td>\n",
       "      <td>NaN</td>\n",
       "      <td>NaN</td>\n",
       "      <td>NaN</td>\n",
       "      <td>NaN</td>\n",
       "    </tr>\n",
       "  </tbody>\n",
       "</table>\n",
       "<p>4410 rows × 24 columns</p>\n",
       "</div>"
      ],
      "text/plain": [
       "       Age Attrition BusinessTravel              Department  DistanceFromHome  \\\n",
       "0     35.0        No  Travel_Rarely  Research & Development               2.0   \n",
       "1      NaN       NaN            NaN                     NaN               NaN   \n",
       "2      NaN       NaN            NaN                     NaN               NaN   \n",
       "3      NaN       NaN            NaN                     NaN               NaN   \n",
       "4      NaN       NaN            NaN                     NaN               NaN   \n",
       "...    ...       ...            ...                     ...               ...   \n",
       "4405   NaN       NaN            NaN                     NaN               NaN   \n",
       "4406   NaN       NaN            NaN                     NaN               NaN   \n",
       "4407   NaN       NaN            NaN                     NaN               NaN   \n",
       "4408   NaN       NaN            NaN                     NaN               NaN   \n",
       "4409   NaN       NaN            NaN                     NaN               NaN   \n",
       "\n",
       "      Education EducationField  EmployeeCount  EmployeeID Gender  ...  \\\n",
       "0           3.0  Life Sciences            1.0           1   Male  ...   \n",
       "1           NaN            NaN            NaN           2    NaN  ...   \n",
       "2           NaN            NaN            NaN           3    NaN  ...   \n",
       "3           NaN            NaN            NaN           4    NaN  ...   \n",
       "4           NaN            NaN            NaN           5    NaN  ...   \n",
       "...         ...            ...            ...         ...    ...  ...   \n",
       "4405        NaN            NaN            NaN        4406    NaN  ...   \n",
       "4406        NaN            NaN            NaN        4407    NaN  ...   \n",
       "4407        NaN            NaN            NaN        4408    NaN  ...   \n",
       "4408        NaN            NaN            NaN        4409    NaN  ...   \n",
       "4409        NaN            NaN            NaN        4410    NaN  ...   \n",
       "\n",
       "      NumCompaniesWorked Over18 PercentSalaryHike  StandardHours  \\\n",
       "0                    1.0      Y              11.0            8.0   \n",
       "1                    NaN    NaN               NaN            NaN   \n",
       "2                    NaN    NaN               NaN            NaN   \n",
       "3                    NaN    NaN               NaN            NaN   \n",
       "4                    NaN    NaN               NaN            NaN   \n",
       "...                  ...    ...               ...            ...   \n",
       "4405                 NaN    NaN               NaN            NaN   \n",
       "4406                 NaN    NaN               NaN            NaN   \n",
       "4407                 NaN    NaN               NaN            NaN   \n",
       "4408                 NaN    NaN               NaN            NaN   \n",
       "4409                 NaN    NaN               NaN            NaN   \n",
       "\n",
       "      StockOptionLevel TotalWorkingYears  TrainingTimesLastYear  \\\n",
       "0                  0.0              10.0                    2.0   \n",
       "1                  NaN               NaN                    NaN   \n",
       "2                  NaN               NaN                    NaN   \n",
       "3                  NaN               NaN                    NaN   \n",
       "4                  NaN               NaN                    NaN   \n",
       "...                ...               ...                    ...   \n",
       "4405               NaN               NaN                    NaN   \n",
       "4406               NaN               NaN                    NaN   \n",
       "4407               NaN               NaN                    NaN   \n",
       "4408               NaN               NaN                    NaN   \n",
       "4409               NaN               NaN                    NaN   \n",
       "\n",
       "      YearsAtCompany  YearsSinceLastPromotion  YearsWithCurrManager  \n",
       "0                5.0                      0.0                   2.0  \n",
       "1                NaN                      NaN                   NaN  \n",
       "2                NaN                      NaN                   NaN  \n",
       "3                NaN                      NaN                   NaN  \n",
       "4                NaN                      NaN                   NaN  \n",
       "...              ...                      ...                   ...  \n",
       "4405             NaN                      NaN                   NaN  \n",
       "4406             NaN                      NaN                   NaN  \n",
       "4407             NaN                      NaN                   NaN  \n",
       "4408             NaN                      NaN                   NaN  \n",
       "4409             NaN                      NaN                   NaN  \n",
       "\n",
       "[4410 rows x 24 columns]"
      ]
     },
     "execution_count": 16,
     "metadata": {},
     "output_type": "execute_result"
    }
   ],
   "source": [
    "#Mode describes the most frequently occuring or repeated value\n",
    "dataset.mode()"
   ]
  },
  {
   "cell_type": "code",
   "execution_count": 17,
   "metadata": {},
   "outputs": [
    {
     "data": {
      "text/plain": [
       "Age                        0.413005\n",
       "DistanceFromHome           0.957466\n",
       "Education                 -0.289484\n",
       "EmployeeCount              0.000000\n",
       "EmployeeID                 0.000000\n",
       "JobLevel                   1.024703\n",
       "MonthlyIncome              1.368884\n",
       "NumCompaniesWorked         1.026767\n",
       "PercentSalaryHike          0.820569\n",
       "StandardHours              0.000000\n",
       "StockOptionLevel           0.968321\n",
       "TotalWorkingYears          1.116832\n",
       "TrainingTimesLastYear      0.552748\n",
       "YearsAtCompany             1.763328\n",
       "YearsSinceLastPromotion    1.982939\n",
       "YearsWithCurrManager       0.832884\n",
       "dtype: float64"
      ]
     },
     "execution_count": 17,
     "metadata": {},
     "output_type": "execute_result"
    }
   ],
   "source": [
    "#Skewness is basically the measure of symmetricity,like how much the data is skewed from nrmal distribution(bell shaed curve)\n",
    "#skew>0--\n",
    "dataset.skew()"
   ]
  },
  {
   "cell_type": "code",
   "execution_count": 18,
   "metadata": {},
   "outputs": [
    {
     "data": {
      "text/plain": [
       "Age                       -0.405951\n",
       "DistanceFromHome          -0.227045\n",
       "Education                 -0.560569\n",
       "EmployeeCount              0.000000\n",
       "EmployeeID                -1.200000\n",
       "JobLevel                   0.395525\n",
       "MonthlyIncome              1.000232\n",
       "NumCompaniesWorked         0.007287\n",
       "PercentSalaryHike         -0.302638\n",
       "StandardHours              0.000000\n",
       "StockOptionLevel           0.361086\n",
       "TotalWorkingYears          0.912936\n",
       "TrainingTimesLastYear      0.491149\n",
       "YearsAtCompany             3.923864\n",
       "YearsSinceLastPromotion    3.601761\n",
       "YearsWithCurrManager       0.167949\n",
       "dtype: float64"
      ]
     },
     "execution_count": 18,
     "metadata": {},
     "output_type": "execute_result"
    }
   ],
   "source": [
    "#Kurtosis is basically the measure of taildiness(or  we can say the peaknesss of the curve),how heavily the tails of distribution differs from the tails of normal distribution.\n",
    "dataset.kurt()"
   ]
  },
  {
   "cell_type": "markdown",
   "metadata": {},
   "source": [
    "## Inferences\n",
    "\n",
    "All the above variables show positive skewness(.i.e Mean>Median); \n",
    "while Age & Mean_distance_from_home,PercentSalaryHike are platykurtic and \n",
    "MonthlyIncome,YearsAtCompany,YearsSinceLastPromotion are Leptokurtic.\n",
    "The Mean_Monthly_Income’s IQR is at 54K suggesting company wide attrition across all\n",
    "income bands\n",
    "Mean age forms a near normal distribution with 13 years of IQR\n",
    "\n"
   ]
  },
  {
   "cell_type": "code",
   "execution_count": 19,
   "metadata": {},
   "outputs": [
    {
     "data": {
      "text/plain": [
       "{'whiskers': [<matplotlib.lines.Line2D at 0xa1a3b51188>,\n",
       "  <matplotlib.lines.Line2D at 0xa1a3b5bf88>],\n",
       " 'caps': [<matplotlib.lines.Line2D at 0xa1a3b68c48>,\n",
       "  <matplotlib.lines.Line2D at 0xa1a3b68d08>],\n",
       " 'boxes': [<matplotlib.lines.Line2D at 0xa1a3b5bc48>],\n",
       " 'medians': [<matplotlib.lines.Line2D at 0xa1a3bbae08>],\n",
       " 'fliers': [<matplotlib.lines.Line2D at 0xa1a3bbaf08>],\n",
       " 'means': []}"
      ]
     },
     "execution_count": 19,
     "metadata": {},
     "output_type": "execute_result"
    },
    {
     "data": {
      "image/png": "[encoded data removed]",
      "text/plain": [
       "<Figure size 432x288 with 1 Axes>"
      ]
     },
     "metadata": {
      "needs_background": "light"
     },
     "output_type": "display_data"
    }
   ],
   "source": [
    "#Boxplot is the visual discription of the distribution based on min,first quartile,median,third quartile,max\n",
    "plt.boxplot(dataset.Age)"
   ]
  },
  {
   "cell_type": "markdown",
   "metadata": {},
   "source": [
    "Here,Age is normally distributed without any Outliers(.i.e without any extreme values)"
   ]
  },
  {
   "cell_type": "code",
   "execution_count": 20,
   "metadata": {},
   "outputs": [
    {
     "data": {
      "text/plain": [
       "{'whiskers': [<matplotlib.lines.Line2D at 0xa1a3ca0f08>,\n",
       "  <matplotlib.lines.Line2D at 0xa1a3ca0948>],\n",
       " 'caps': [<matplotlib.lines.Line2D at 0xa1a3ca39c8>,\n",
       "  <matplotlib.lines.Line2D at 0xa1a3ca3f08>],\n",
       " 'boxes': [<matplotlib.lines.Line2D at 0xa1a3ca0788>],\n",
       " 'medians': [<matplotlib.lines.Line2D at 0xa1a3ca3b48>],\n",
       " 'fliers': [<matplotlib.lines.Line2D at 0xa1a3caca08>],\n",
       " 'means': []}"
      ]
     },
     "execution_count": 20,
     "metadata": {},
     "output_type": "execute_result"
    },
    {
     "data": {
      "image/png": "[encoded data removed]",
      "text/plain": [
       "<Figure size 432x288 with 1 Axes>"
      ]
     },
     "metadata": {
      "needs_background": "light"
     },
     "output_type": "display_data"
    }
   ],
   "source": [
    "plt.boxplot(dataset.DistanceFromHome)"
   ]
  },
  {
   "cell_type": "markdown",
   "metadata": {},
   "source": [
    "Distane_from_home is slightly right skewed i.e. positively skewed(Mean>Median) without any outliers"
   ]
  },
  {
   "cell_type": "code",
   "execution_count": 21,
   "metadata": {},
   "outputs": [
    {
     "data": {
      "text/plain": [
       "{'whiskers': [<matplotlib.lines.Line2D at 0xa1a3d0dbc8>,\n",
       "  <matplotlib.lines.Line2D at 0xa1a3d0dcc8>],\n",
       " 'caps': [<matplotlib.lines.Line2D at 0xa1a7a41b88>,\n",
       "  <matplotlib.lines.Line2D at 0xa1a7a41c88>],\n",
       " 'boxes': [<matplotlib.lines.Line2D at 0xa1a3d0d308>],\n",
       " 'medians': [<matplotlib.lines.Line2D at 0xa1a7a46b08>],\n",
       " 'fliers': [<matplotlib.lines.Line2D at 0xa1a7a46c08>],\n",
       " 'means': []}"
      ]
     },
     "execution_count": 21,
     "metadata": {},
     "output_type": "execute_result"
    },
    {
     "data": {
      "image/png": "[encoded data removed]",
      "text/plain": [
       "<Figure size 432x288 with 1 Axes>"
      ]
     },
     "metadata": {
      "needs_background": "light"
     },
     "output_type": "display_data"
    }
   ],
   "source": [
    "plt.boxplot(dataset.MonthlyIncome)"
   ]
  },
  {
   "cell_type": "markdown",
   "metadata": {},
   "source": [
    "MonthlyIncome is right skewed with some Outliers"
   ]
  },
  {
   "cell_type": "code",
   "execution_count": 22,
   "metadata": {},
   "outputs": [
    {
     "data": {
      "text/plain": [
       "{'whiskers': [<matplotlib.lines.Line2D at 0xa1a7ab1fc8>,\n",
       "  <matplotlib.lines.Line2D at 0xa1a7ab5a88>],\n",
       " 'caps': [<matplotlib.lines.Line2D at 0xa1a7ab5b88>,\n",
       "  <matplotlib.lines.Line2D at 0xa1a7abb948>],\n",
       " 'boxes': [<matplotlib.lines.Line2D at 0xa1a7ab1808>],\n",
       " 'medians': [<matplotlib.lines.Line2D at 0xa1a7abbfc8>],\n",
       " 'fliers': [<matplotlib.lines.Line2D at 0xa1a7ac08c8>],\n",
       " 'means': []}"
      ]
     },
     "execution_count": 22,
     "metadata": {},
     "output_type": "execute_result"
    },
    {
     "data": {
      "image/png": "[encoded data removed]",
      "text/plain": [
       "<Figure size 432x288 with 1 Axes>"
      ]
     },
     "metadata": {
      "needs_background": "light"
     },
     "output_type": "display_data"
    }
   ],
   "source": [
    "plt.boxplot(dataset.PercentSalaryHike)"
   ]
  },
  {
   "cell_type": "markdown",
   "metadata": {},
   "source": [
    "PercentSalaryHike is slightly right skewed without any outliers"
   ]
  },
  {
   "cell_type": "code",
   "execution_count": 23,
   "metadata": {},
   "outputs": [
    {
     "data": {
      "text/plain": [
       "{'whiskers': [<matplotlib.lines.Line2D at 0xa1a962af08>,\n",
       "  <matplotlib.lines.Line2D at 0xa1a9630988>],\n",
       " 'caps': [<matplotlib.lines.Line2D at 0xa1a9630a88>,\n",
       "  <matplotlib.lines.Line2D at 0xa1a9636908>],\n",
       " 'boxes': [<matplotlib.lines.Line2D at 0xa1a962a7c8>],\n",
       " 'medians': [<matplotlib.lines.Line2D at 0xa1a9636f88>],\n",
       " 'fliers': [<matplotlib.lines.Line2D at 0xa1a963b888>],\n",
       " 'means': []}"
      ]
     },
     "execution_count": 23,
     "metadata": {},
     "output_type": "execute_result"
    },
    {
     "data": {
      "image/png": "[encoded data removed]",
      "text/plain": [
       "<Figure size 432x288 with 1 Axes>"
      ]
     },
     "metadata": {
      "needs_background": "light"
     },
     "output_type": "display_data"
    }
   ],
   "source": [
    "plt.boxplot(dataset.StockOptionLevel)"
   ]
  },
  {
   "cell_type": "code",
   "execution_count": 20,
   "metadata": {},
   "outputs": [
    {
     "data": {
      "text/plain": [
       "{'whiskers': [<matplotlib.lines.Line2D at 0xf544ecc588>,\n",
       "  <matplotlib.lines.Line2D at 0xf544eccd48>],\n",
       " 'caps': [<matplotlib.lines.Line2D at 0xf544ecce48>,\n",
       "  <matplotlib.lines.Line2D at 0xf544ed0c08>],\n",
       " 'boxes': [<matplotlib.lines.Line2D at 0xf544ecaa88>],\n",
       " 'medians': [<matplotlib.lines.Line2D at 0xf544ed0d08>],\n",
       " 'fliers': [<matplotlib.lines.Line2D at 0xf544ed4d08>],\n",
       " 'means': []}"
      ]
     },
     "execution_count": 20,
     "metadata": {},
     "output_type": "execute_result"
    },
    {
     "data": {
      "image/png": "[encoded data removed]",
      "text/plain": [
       "<Figure size 432x288 with 1 Axes>"
      ]
     },
     "metadata": {
      "needs_background": "light"
     },
     "output_type": "display_data"
    }
   ],
   "source": [
    "plt.boxplot(dataset.YearsAtCompany)"
   ]
  },
  {
   "cell_type": "markdown",
   "metadata": {},
   "source": [
    "YearsatCompany is a bit right skewed with some outliers."
   ]
  },
  {
   "cell_type": "code",
   "execution_count": 24,
   "metadata": {},
   "outputs": [
    {
     "data": {
      "text/plain": [
       "{'whiskers': [<matplotlib.lines.Line2D at 0xa1a9697f48>,\n",
       "  <matplotlib.lines.Line2D at 0xa1a9697ec8>],\n",
       " 'caps': [<matplotlib.lines.Line2D at 0xa1a969aec8>,\n",
       "  <matplotlib.lines.Line2D at 0xa1a969afc8>],\n",
       " 'boxes': [<matplotlib.lines.Line2D at 0xa1a9697548>],\n",
       " 'medians': [<matplotlib.lines.Line2D at 0xa1a96a0e48>],\n",
       " 'fliers': [<matplotlib.lines.Line2D at 0xa1a96a0f48>],\n",
       " 'means': []}"
      ]
     },
     "execution_count": 24,
     "metadata": {},
     "output_type": "execute_result"
    },
    {
     "data": {
      "image/png": "[encoded data removed]",
      "text/plain": [
       "<Figure size 432x288 with 1 Axes>"
      ]
     },
     "metadata": {
      "needs_background": "light"
     },
     "output_type": "display_data"
    }
   ],
   "source": [
    "plt.boxplot(dataset.YearsSinceLastPromotion)"
   ]
  },
  {
   "cell_type": "markdown",
   "metadata": {},
   "source": [
    "YearsSinceLastPromotion is slightly right skewed with some outliers"
   ]
  },
  {
   "cell_type": "code",
   "execution_count": 25,
   "metadata": {},
   "outputs": [
    {
     "data": {
      "text/plain": [
       "{'whiskers': [<matplotlib.lines.Line2D at 0xa1a9707488>,\n",
       "  <matplotlib.lines.Line2D at 0xa1a9707c48>],\n",
       " 'caps': [<matplotlib.lines.Line2D at 0xa1a9707d48>,\n",
       "  <matplotlib.lines.Line2D at 0xa1a970cbc8>],\n",
       " 'boxes': [<matplotlib.lines.Line2D at 0xa1a9702ac8>],\n",
       " 'medians': [<matplotlib.lines.Line2D at 0xa1a970ccc8>],\n",
       " 'fliers': [<matplotlib.lines.Line2D at 0xa1a9710b48>],\n",
       " 'means': []}"
      ]
     },
     "execution_count": 25,
     "metadata": {},
     "output_type": "execute_result"
    },
    {
     "data": {
      "image/png": "[encoded data removed]",
      "text/plain": [
       "<Figure size 432x288 with 1 Axes>"
      ]
     },
     "metadata": {
      "needs_background": "light"
     },
     "output_type": "display_data"
    }
   ],
   "source": [
    "plt.boxplot(dataset.YearsWithCurrManager)"
   ]
  },
  {
   "cell_type": "markdown",
   "metadata": {},
   "source": [
    "YearswithCurrentManager is right skewed with some outliers"
   ]
  },
  {
   "cell_type": "code",
   "execution_count": 26,
   "metadata": {},
   "outputs": [],
   "source": [
    "import seaborn as sns   #for visualization of data"
   ]
  },
  {
   "cell_type": "code",
   "execution_count": 27,
   "metadata": {},
   "outputs": [
    {
     "data": {
      "image/png": "[encoded data removed]",
      "text/plain": [
       "<Figure size 432x288 with 1 Axes>"
      ]
     },
     "metadata": {
      "needs_background": "light"
     },
     "output_type": "display_data"
    }
   ],
   "source": [
    "dataset1=dataset.groupby(['Department','Attrition']).size().reset_index(name='count') \n",
    "#groupby is used to split the data into groups based on some criteria  \n",
    "#below x is one of the variable , y is the count that is generated after splitting of groups and hue is the target variable(with whom u wnt to find the relationship)\n",
    "sns.barplot(x= 'Department', y='count', data=dataset1, hue = 'Attrition') \n",
    "plt.show()"
   ]
  },
  {
   "cell_type": "markdown",
   "metadata": {},
   "source": [
    "\n",
    "here the bargraph indicatd that the attrition rate is not affected with respect Department"
   ]
  },
  {
   "cell_type": "code",
   "execution_count": 28,
   "metadata": {},
   "outputs": [
    {
     "data": {
      "text/plain": [
       "<matplotlib.axes._subplots.AxesSubplot at 0xa1aa1c7148>"
      ]
     },
     "execution_count": 28,
     "metadata": {},
     "output_type": "execute_result"
    },
    {
     "data": {
      "image/png": "[encoded data removed]",
      "text/plain": [
       "<Figure size 432x288 with 1 Axes>"
      ]
     },
     "metadata": {
      "needs_background": "light"
     },
     "output_type": "display_data"
    }
   ],
   "source": [
    "dataset2=dataset.groupby(['Gender','Attrition']).size().reset_index(name='count1')\n",
    "sns.barplot(x='Gender',y='count1',data = dataset2,hue = 'Attrition')"
   ]
  },
  {
   "cell_type": "markdown",
   "metadata": {},
   "source": [
    "In this graph also there is no effect of Gender over Attrition"
   ]
  },
  {
   "cell_type": "code",
   "execution_count": 29,
   "metadata": {},
   "outputs": [
    {
     "data": {
      "text/plain": [
       "<matplotlib.axes._subplots.AxesSubplot at 0xa1aa15bac8>"
      ]
     },
     "execution_count": 29,
     "metadata": {},
     "output_type": "execute_result"
    },
    {
     "data": {
      "image/png": "[encoded data removed]",
      "text/plain": [
       "<Figure size 432x288 with 1 Axes>"
      ]
     },
     "metadata": {
      "needs_background": "light"
     },
     "output_type": "display_data"
    }
   ],
   "source": [
    "dataset3 = dataset.groupby(['NumCompaniesWorked','Attrition']).size().reset_index(name='record')\n",
    "sns.barplot(x='NumCompaniesWorked',y='record',data = dataset3,hue = 'Attrition')"
   ]
  },
  {
   "cell_type": "code",
   "execution_count": 27,
   "metadata": {},
   "outputs": [
    {
     "data": {
      "text/plain": [
       "<matplotlib.axes._subplots.AxesSubplot at 0xf54636d648>"
      ]
     },
     "execution_count": 27,
     "metadata": {},
     "output_type": "execute_result"
    },
    {
     "data": {
      "image/png": "[encoded data removed]",
      "text/plain": [
       "<Figure size 432x288 with 1 Axes>"
      ]
     },
     "metadata": {
      "needs_background": "light"
     },
     "output_type": "display_data"
    }
   ],
   "source": [
    "dataset4 = dataset.groupby(['PercentSalaryHike','Attrition']).size().reset_index(name='record1')\n",
    "sns.barplot(x='PercentSalaryHike',y='record1',data = dataset4,hue = 'Attrition') \n",
    "# sns.boxplot(data=dataset4)"
   ]
  },
  {
   "cell_type": "markdown",
   "metadata": {},
   "source": [
    "By this graph too we can conclude there is no effect of PercentSalaryHike over Attrition,it is very less comparitively"
   ]
  },
  {
   "cell_type": "code",
   "execution_count": 30,
   "metadata": {},
   "outputs": [
    {
     "data": {
      "text/plain": [
       "<matplotlib.axes._subplots.AxesSubplot at 0xa1aa2ab108>"
      ]
     },
     "execution_count": 30,
     "metadata": {},
     "output_type": "execute_result"
    },
    {
     "data": {
      "image/png": "[encoded data removed]",
      "text/plain": [
       "<Figure size 432x288 with 1 Axes>"
      ]
     },
     "metadata": {
      "needs_background": "light"
     },
     "output_type": "display_data"
    }
   ],
   "source": [
    "\n",
    "dataset5 = dataset.groupby(['YearsAtCompany','Attrition']).size().reset_index(name='records')\n",
    "sns.barplot(x='YearsAtCompany',y='records',data=dataset5,hue='Attrition')"
   ]
  },
  {
   "cell_type": "markdown",
   "metadata": {},
   "source": [
    "From this graph to it can ne concluded that attrition is not caused on the basis of number of years employee has worked,it has very little effect."
   ]
  },
  {
   "cell_type": "code",
   "execution_count": 31,
   "metadata": {},
   "outputs": [
    {
     "data": {
      "text/plain": [
       "<matplotlib.axes._subplots.AxesSubplot at 0xa1aa2a05c8>"
      ]
     },
     "execution_count": 31,
     "metadata": {},
     "output_type": "execute_result"
    },
    {
     "data": {
      "image/png": "[encoded data removed]",
      "text/plain": [
       "<Figure size 432x288 with 1 Axes>"
      ]
     },
     "metadata": {
      "needs_background": "light"
     },
     "output_type": "display_data"
    }
   ],
   "source": [
    "dataset6 = dataset.groupby(['YearsSinceLastPromotion','Attrition']).size().reset_index(name='records')\n",
    "sns.barplot(x='YearsSinceLastPromotion',y='records',data=dataset6,hue='Attrition')"
   ]
  },
  {
   "cell_type": "markdown",
   "metadata": {},
   "source": [
    "The promotion of the employee with the past years has no effect over the attrition."
   ]
  },
  {
   "cell_type": "code",
   "execution_count": 32,
   "metadata": {},
   "outputs": [
    {
     "data": {
      "text/plain": [
       "<matplotlib.axes._subplots.AxesSubplot at 0xa1aa2a0388>"
      ]
     },
     "execution_count": 32,
     "metadata": {},
     "output_type": "execute_result"
    },
    {
     "data": {
      "image/png": "[encoded data removed]",
      "text/plain": [
       "<Figure size 432x288 with 1 Axes>"
      ]
     },
     "metadata": {
      "needs_background": "light"
     },
     "output_type": "display_data"
    }
   ],
   "source": [
    "dataset7 = dataset.groupby(['YearsWithCurrManager','Attrition']).size().reset_index(name='records')\n",
    "sns.barplot(x='YearsWithCurrManager',y='records',data=dataset7,hue='Attrition')"
   ]
  },
  {
   "cell_type": "markdown",
   "metadata": {},
   "source": [
    "It can be concluded that the current manager is not the reason of attrition."
   ]
  },
  {
   "cell_type": "code",
   "execution_count": null,
   "metadata": {},
   "outputs": [],
   "source": [
    "dataset8 = dataset.groupby(['MonthlyIncome','Attrition']).size().reset_index(name='record3')\n",
    "sns.barplot(x='MonthlyIncome',y='record3',data=dataset8,hue='Attrition')"
   ]
  },
  {
   "cell_type": "code",
   "execution_count": 33,
   "metadata": {},
   "outputs": [],
   "source": [
    "#To convert categorical data in to 1's and 0's \n",
    "from sklearn import preprocessing            #sklearn is for providing Ml capabilities in python.\n",
    "Label_encoder = preprocessing.LabelBinarizer() #label encoder is helpful for convertion into 0 and 1 ,binarizer is applicable for only 2 categories \n",
    "dataset['Attrition']=Label_encoder.fit_transform(dataset['Attrition']) #fit.transform will transform txt into numerical.\n"
   ]
  },
  {
   "cell_type": "code",
   "execution_count": 37,
   "metadata": {},
   "outputs": [
    {
     "name": "stdout",
     "output_type": "stream",
     "text": [
      "-0.15920500686577965 1.996801615886744e-26\n",
      "Accept Alternate Hypothesis\n"
     ]
    }
   ],
   "source": [
    "from scipy.stats import pearsonr         #pearsonr is a function for correlation and stats is for finding 'r' and 'p'is for p-value to determine hypothesis tests\n",
    "'''\n",
    "H0:There is no significant relation between Attrition and Age\n",
    "H1:There is significant relation between Attrition and Age\n",
    "'''\n",
    "stats,p = pearsonr(dataset.Attrition,dataset.Age)\n",
    "print(stats,p)\n",
    "if (p>0.05):\n",
    "    print(\"Accept Null Hypothesis\")\n",
    "elif (p<0.05):\n",
    "    print('Accept Alternate Hypothesis')"
   ]
  },
  {
   "cell_type": "code",
   "execution_count": 38,
   "metadata": {},
   "outputs": [
    {
     "name": "stdout",
     "output_type": "stream",
     "text": [
      "-0.009730141010179674 0.5182860428050771\n",
      "Accept Null Hypothesis\n"
     ]
    }
   ],
   "source": [
    "stats,p = pearsonr(dataset.Attrition,dataset.DistanceFromHome)\n",
    "print(stats,p)\n",
    "\n",
    "if (p>0.05):\n",
    "    print(\"Accept Null Hypothesis\")\n",
    "elif (p<0.05):\n",
    "    print('Accept Alternate Hypothesis')"
   ]
  },
  {
   "cell_type": "code",
   "execution_count": 39,
   "metadata": {},
   "outputs": [
    {
     "name": "stdout",
     "output_type": "stream",
     "text": [
      "0.03253259489105349 0.030743386433355353\n",
      "0.03253259489105349 0.030743386433355353\n",
      "Accept Alternate Hypothesis\n"
     ]
    }
   ],
   "source": [
    "stats,p = pearsonr(dataset.Attrition,dataset.PercentSalaryHike)\n",
    "print(stats,p)\n",
    "print(stats,p)\n",
    "if (p>0.05):\n",
    "    print(\"Accept Null Hypothesis\")\n",
    "elif (p<0.05):\n",
    "    print('Accept Alternate Hypothesis')"
   ]
  },
  {
   "cell_type": "code",
   "execution_count": 40,
   "metadata": {},
   "outputs": [
    {
     "name": "stdout",
     "output_type": "stream",
     "text": [
      "-0.031176281698115007 0.03842748490600132\n",
      "Accept Alternate Hypothesis\n"
     ]
    }
   ],
   "source": [
    "stats,p = pearsonr(dataset.Attrition,dataset.MonthlyIncome)\n",
    "print(stats,p)\n",
    "\n",
    "if (p>0.05):\n",
    "    print(\"Accept Null Hypothesis\")\n",
    "elif (p<0.05):\n",
    "    print('Accept Alternate Hypothesis')"
   ]
  },
  {
   "cell_type": "code",
   "execution_count": 41,
   "metadata": {},
   "outputs": [
    {
     "name": "stdout",
     "output_type": "stream",
     "text": [
      "-0.03301877514258434 0.028330336189396753\n",
      "Accept Alternate Hypothesis\n"
     ]
    }
   ],
   "source": [
    "stats,p = pearsonr(dataset.Attrition,dataset.YearsSinceLastPromotion)\n",
    "print(stats,p)\n",
    "\n",
    "if (p>0.05):\n",
    "    print(\"Accept Null Hypothesis\")\n",
    "elif (p<0.05):\n",
    "    print('Accept Alternate Hypothesis')"
   ]
  },
  {
   "cell_type": "code",
   "execution_count": 42,
   "metadata": {},
   "outputs": [
    {
     "name": "stdout",
     "output_type": "stream",
     "text": [
      "-0.15619931590162847 1.7339322652896276e-25\n",
      "Accept Alternate Hypothesis\n"
     ]
    }
   ],
   "source": [
    "stats,p = pearsonr(dataset.Attrition,dataset.YearsWithCurrManager)\n",
    "print(stats,p)\n",
    "if (p>0.05):\n",
    "    print(\"Accept Null Hypothesis\")\n",
    "elif (p<0.05):\n",
    "    print('Accept Alternate Hypothesis')"
   ]
  },
  {
   "cell_type": "code",
   "execution_count": 43,
   "metadata": {},
   "outputs": [
    {
     "name": "stdout",
     "output_type": "stream",
     "text": [
      "-0.1343922139899772 3.1638831224877484e-19\n",
      "Accept Alternate Hypothesis\n"
     ]
    }
   ],
   "source": [
    "stats,p = pearsonr(dataset.Attrition,dataset.YearsAtCompany)\n",
    "print(stats,p)\n",
    "if (p>0.05):\n",
    "    print(\"Accept Null Hypothesis\")\n",
    "elif (p<0.05):\n",
    "    print('Accept Alternate Hypothesis')"
   ]
  },
  {
   "cell_type": "markdown",
   "metadata": {},
   "source": [
    "## Inferences\n",
    "Attrition and Age\n",
    "From the above computed value of r and p the analysis is as follows:\n",
    "As r=-0.15 there is low negative correlation between Attrition and Age\n",
    "As the p value is <0.05 we are accepting Alternate hypothesis ,hence there is significant correlation between Attrition and Age\n",
    "\n",
    "Attrition & DistanceFromHome:\n",
    "As r = -0.009, there’s low negative correlation between Attrition and DistanceFromHome\n",
    "As the P value of 0.518 is > 0.05, we are accepting H0 and hence there’s no significant correlation\n",
    "between Attrition & DistanceFromHome\n",
    "\n",
    "Attrition and PercentSalaryHike\n",
    "As r = 0.03, there’s low positive correlation between Attrition and PercentSalaryHike\n",
    "As the P value of 0.03 is < 0.05, we are accepting H1 and hence there is significant correlation\n",
    "between Attrition & PrcentSalaryHike\n",
    "\n",
    "Attrition and MonthlyIncome\n",
    "As r = -0.03, there’s low positive correlation between Attrition and MonthlyIncome\n",
    "As the P value of  is 0.03 <0.05, we are accepting H1 and hence there is  significant correlation\n",
    "between Attrition & MonthlyIncome\n",
    "\n",
    "Attrition and YearsWithCurrManager\n",
    "As r = -0.15, there’s low positive correlation between Attrition and YearsWithCurrManager\n",
    "As the P value of  is 1.73 < 0.05, we are accepting H1 and hence there is significant correlation\n",
    "between Attrition & YearsWithCurrManager\n",
    "\n",
    "Attrition and YearsSinceLastPromotion\n",
    "As r = -0.05, there’s low positive correlation between Attrition and YearsSinceLastPromotion\n",
    "As the P value of  is 0.28 < 0.05, we are accepting H1 and hence there is significant correlation\n",
    "between Attrition & YearsSinceLastPromotion\n",
    "\n",
    "Attrition and YearsAtCompany\n",
    "As r = -0.13, there’s low positive correlation between Attrition and YearsAtCompany\n",
    "As the P value of  is  < 0.05, we are accepting H1 and hence there is significant correlation\n",
    "between Attrition & YearsAtCompany\n",
    "\n",
    "\n",
    "\n"
   ]
  },
  {
   "cell_type": "code",
   "execution_count": 44,
   "metadata": {},
   "outputs": [
    {
     "name": "stdout",
     "output_type": "stream",
     "text": [
      "1312110.0 0.4629185205822659\n",
      "Accept Null Hypothesis\n"
     ]
    }
   ],
   "source": [
    "\n",
    "from scipy.stats import mannwhitneyu\n",
    "#mannwhitneyu used to test whether two samples are likely to derive from the same population (i.e., that the two populations have the same shape)\n",
    "dataset_No = dataset[dataset['Attrition']==0]\n",
    "dataset_Yes = dataset[dataset['Attrition']==1]\n",
    "stats,p=mannwhitneyu(dataset_No. DistanceFromHome,dataset_Yes. DistanceFromHome)\n",
    "print(stats,p)\n",
    "if (p>0.05):\n",
    "    print(\"Accept Null Hypothesis\")\n",
    "elif (p<0.05):\n",
    "    print('Accept Alternate Hypothesis')\n"
   ]
  },
  {
   "cell_type": "markdown",
   "metadata": {},
   "source": [
    "As the P value  is > 0.05, the Ha is rejected and H0 is accepted.\n",
    "H0: There is no significant differences in the Distance From Home between attrition (Y) and attirition\n",
    "(N)\n",
    "Ha: There is significant differences in the Distance From Home between attrition (Y) and attirition (N)"
   ]
  },
  {
   "cell_type": "code",
   "execution_count": 45,
   "metadata": {},
   "outputs": [
    {
     "name": "stdout",
     "output_type": "stream",
     "text": [
      "1264900.5 0.053577283839938566\n",
      "Accept Null Hypothesis\n"
     ]
    }
   ],
   "source": [
    "stats,p=mannwhitneyu(dataset_No.MonthlyIncome ,dataset_Yes.MonthlyIncome )\n",
    "print(stats,p)\n",
    "if (p>0.05):\n",
    "    print(\"Accept Null Hypothesis\")\n",
    "elif (p<0.05):\n",
    "    print('Accept Alternate Hypothesis')\n"
   ]
  },
  {
   "cell_type": "markdown",
   "metadata": {},
   "source": [
    "As the P value is > than 0.05, the Ha is rejected and H0 is accepted.\n",
    "H0: There is no significant differences in the MonthlyIncome between attrition (Y) and attirition (N)\n",
    "Ha: There is significant differences in the income between attrition (Y) and attirition (N)"
   ]
  },
  {
   "cell_type": "code",
   "execution_count": 47,
   "metadata": {},
   "outputs": [
    {
     "name": "stdout",
     "output_type": "stream",
     "text": [
      "909958.0 2.894653260702919e-39\n",
      "Accept Alternate Hypothesis\n"
     ]
    }
   ],
   "source": [
    "stats,p=mannwhitneyu(dataset_No.TotalWorkingYears ,dataset_Yes.TotalWorkingYears )\n",
    "print(stats,p)\n",
    "if (p>0.05):\n",
    "    print(\"Accept Null Hypothesis\")\n",
    "elif (p<0.05):\n",
    "    print('Accept Alternate Hypothesis')\n"
   ]
  },
  {
   "cell_type": "code",
   "execution_count": null,
   "metadata": {},
   "outputs": [],
   "source": [
    "As the P value  is > 0.05, the Ha is rejected and H0 is accepted.\n",
    "H0: There is no significant differences in the Distance From Home between attrition (Y) and attirition\n",
    "(N)\n",
    "Ha: There is significant differences in the Distance From Home between attrition (Y) and attirition (N)"
   ]
  },
  {
   "cell_type": "code",
   "execution_count": null,
   "metadata": {},
   "outputs": [],
   "source": [
    "TotalWorkingYears\tTrainingTimesLastYear\tYearsAtCompany\tYearsSinceLastPromotion\tYearsWithCurrManager"
   ]
  },
  {
   "cell_type": "code",
   "execution_count": 48,
   "metadata": {},
   "outputs": [
    {
     "name": "stdout",
     "output_type": "stream",
     "text": [
      "1209366.0 0.0002021180346719736\n",
      "Accept Alternate Hypothesis\n"
     ]
    }
   ],
   "source": [
    "stats,p=mannwhitneyu(dataset_No.YearsSinceLastPromotion ,dataset_Yes.YearsSinceLastPromotion )\n",
    "print(stats,p)\n",
    "if (p>0.05):\n",
    "    print(\"Accept Null Hypothesis\")\n",
    "elif (p<0.05):\n",
    "    print('Accept Alternate Hypothesis')\n"
   ]
  },
  {
   "cell_type": "code",
   "execution_count": null,
   "metadata": {},
   "outputs": [],
   "source": [
    "As the P value  is < 0.05, the H0 is rejected and Ha is accepted.\n",
    "H0: There is no significant differences in the YearsSinceLastPromotion between attrition (Y) and attirition\n",
    "(N)\n",
    "Ha: There is significant differences in the YearsSinceLastPromotion between attrition (Y) and attirition (N)"
   ]
  },
  {
   "cell_type": "code",
   "execution_count": 49,
   "metadata": {},
   "outputs": [
    {
     "name": "stdout",
     "output_type": "stream",
     "text": [
      "957253.5 1.2365483142169503e-31\n",
      "Accept Alternate Hypothesis\n"
     ]
    }
   ],
   "source": [
    "stats,p=mannwhitneyu(dataset_No.YearsWithCurrManager ,dataset_Yes.YearsWithCurrManager )\n",
    "print(stats,p)\n",
    "if (p>0.05):\n",
    "    print(\"Accept Null Hypothesis\")\n",
    "elif (p<0.05):\n",
    "    print('Accept Alternate Hypothesis')\n"
   ]
  },
  {
   "cell_type": "code",
   "execution_count": null,
   "metadata": {},
   "outputs": [],
   "source": [
    "As the P value  is < 0.05, the H0 is rejected and Ha is accepted.\n",
    "H0: There is no significant differences in the YearsWithCurrManager between attrition (Y) and attirition\n",
    "(N)\n",
    "Ha: There is significant differences in the YearsWithCurrManager between attrition (Y) and attirition (N)"
   ]
  },
  {
   "cell_type": "code",
   "execution_count": 51,
   "metadata": {},
   "outputs": [],
   "source": [
    "from scipy.stats import ttest_ind"
   ]
  },
  {
   "cell_type": "code",
   "execution_count": 52,
   "metadata": {},
   "outputs": [
    {
     "name": "stdout",
     "output_type": "stream",
     "text": [
      "957253.5 0.518286042805572\n",
      "Accept Null Hypothesis\n"
     ]
    }
   ],
   "source": [
    "stat, p=ttest_ind(dataset_No. DistanceFromHome,dataset_Yes. DistanceFromHome)\n",
    "print(stats,p)\n",
    "if (p>0.05):\n",
    "    print(\"Accept Null Hypothesis\")\n",
    "elif (p<0.05):\n",
    "    print('Accept Alternate Hypothesis')\n"
   ]
  },
  {
   "cell_type": "markdown",
   "metadata": {},
   "source": [
    "As the P value is > than 0.05, the Ha is rejected and h0 is accepted.\n",
    "H0: There is no significant differences in the Distance From Home between attrition (Y) and attirition\n",
    "(N)\n",
    "Ha: There is significant differences in the Distance From Home between attrition (Y) and attirition (N)"
   ]
  },
  {
   "cell_type": "code",
   "execution_count": 53,
   "metadata": {},
   "outputs": [
    {
     "name": "stdout",
     "output_type": "stream",
     "text": [
      "957253.5 0.03842748490605113\n",
      "Accept Alternate Hypothesis\n"
     ]
    }
   ],
   "source": [
    "stat, p=ttest_ind(dataset_No.MonthlyIncome ,dataset_Yes.MonthlyIncome)\n",
    "print(stats,p)\n",
    "if (p>0.05):\n",
    "    print(\"Accept Null Hypothesis\")\n",
    "elif (p<0.05):\n",
    "    print('Accept Alternate Hypothesis')\n"
   ]
  },
  {
   "cell_type": "code",
   "execution_count": null,
   "metadata": {},
   "outputs": [],
   "source": [
    "As the P value is < than 0.05, the H0 is rejected and ha is accepted.\n",
    "H0: There is no significant differences in the MonthlyIncome between attrition (Y) and attirition\n",
    "(N)\n",
    "Ha: There is significant differences in the  between attrition (Y) and attirition (N)"
   ]
  },
  {
   "cell_type": "code",
   "execution_count": 54,
   "metadata": {},
   "outputs": [
    {
     "name": "stdout",
     "output_type": "stream",
     "text": [
      "957253.5 0.028330336189428353\n",
      "Accept Alternate Hypothesis\n"
     ]
    }
   ],
   "source": [
    "stat, p=ttest_ind(dataset_No.YearsSinceLastPromotion ,dataset_Yes.YearsSinceLastPromotion )\n",
    "print(stats,p)\n",
    "if (p>0.05):\n",
    "    print(\"Accept Null Hypothesis\")\n",
    "elif (p<0.05):\n",
    "    print('Accept Alternate Hypothesis')"
   ]
  },
  {
   "cell_type": "code",
   "execution_count": null,
   "metadata": {},
   "outputs": [],
   "source": [
    "As the P value is < than 0.05, the H0 is rejected and ha is accepted.\n",
    "H0: There is no significant differences in the YearsSinceLastPromotion between attrition (Y) and attirition\n",
    "(N)\n",
    "Ha: There is significant differences in the YearsSinceLastPromotion  between attrition (Y) and attirition (N)"
   ]
  },
  {
   "cell_type": "code",
   "execution_count": 55,
   "metadata": {},
   "outputs": [
    {
     "name": "stdout",
     "output_type": "stream",
     "text": [
      "957253.5 1.7339322652918153e-25\n",
      "Accept Alternate Hypothesis\n"
     ]
    }
   ],
   "source": [
    "stat, p=ttest_ind(dataset_No.YearsWithCurrManager ,dataset_Yes.YearsWithCurrManager )\n",
    "print(stats,p)\n",
    "if (p>0.05):\n",
    "    print(\"Accept Null Hypothesis\")\n",
    "elif (p<0.05):\n",
    "    print('Accept Alternate Hypothesis')"
   ]
  },
  {
   "cell_type": "code",
   "execution_count": null,
   "metadata": {},
   "outputs": [],
   "source": [
    "As the P value is < than 0.05, the H0 is rejected and ha is accepted.\n",
    "H0: There is no significant differences in theYearsWithCurrManager  between attrition (Y) and attirition\n",
    "(N)\n",
    "Ha: There is significant differences in the YearsWithCurrManager between attrition (Y) and attirition (N)"
   ]
  }
 ],
 "metadata": {
  "kernelspec": {
   "display_name": "Python 3",
   "language": "python",
   "name": "python3"
  },
  "language_info": {
   "codemirror_mode": {
    "name": "ipython",
    "version": 3
   },
   "file_extension": ".py",
   "mimetype": "text/x-python",
   "name": "python",
   "nbconvert_exporter": "python",
   "pygments_lexer": "ipython3",
   "version": "3.7.6"
  }
 },
 "nbformat": 4,
 "nbformat_minor": 4
}
