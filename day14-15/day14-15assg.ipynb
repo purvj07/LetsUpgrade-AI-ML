{
 "cells": [
  {
   "cell_type": "markdown",
   "metadata": {},
   "source": [
    "# Create a 3x3x3 array with random values\n"
   ]
  },
  {
   "cell_type": "code",
   "execution_count": 2,
   "metadata": {},
   "outputs": [
    {
     "data": {
      "text/plain": [
       "array([[[4.67296746e-307, 1.69121096e-306, 7.56602523e-307],\n",
       "        [1.42418444e-306, 1.11260280e-306, 1.33511018e-306],\n",
       "        [1.33511969e-306, 6.23037996e-307, 6.23053954e-307]],\n",
       "\n",
       "       [[9.34609790e-307, 8.45593934e-307, 9.34600963e-307],\n",
       "        [1.86921143e-306, 6.23061763e-307, 8.90104239e-307],\n",
       "        [6.89804132e-307, 1.24611266e-306, 8.45559303e-307]],\n",
       "\n",
       "       [[8.06612616e-308, 6.89810244e-307, 1.22387550e-307],\n",
       "        [2.22522596e-306, 8.34423917e-308, 1.11261162e-306],\n",
       "        [1.78021527e-306, 2.12203497e-312, 2.46155235e-312]]])"
      ]
     },
     "execution_count": 2,
     "metadata": {},
     "output_type": "execute_result"
    }
   ],
   "source": [
    "import numpy as np\n",
    "from numpy import array\n",
    "x=np.empty((3,3,3))\n",
    "x"
   ]
  },
  {
   "cell_type": "code",
   "execution_count": 8,
   "metadata": {},
   "outputs": [
    {
     "data": {
      "text/plain": [
       "array([[[0.64628594, 0.64588734, 0.05190154],\n",
       "        [0.92713246, 0.94665416, 0.67813862],\n",
       "        [0.84482979, 0.96659445, 0.39320664]],\n",
       "\n",
       "       [[0.1835034 , 0.4168262 , 0.79029771],\n",
       "        [0.39108268, 0.50767564, 0.77348129],\n",
       "        [0.39623124, 0.47561271, 0.87510817]],\n",
       "\n",
       "       [[0.78026292, 0.35425373, 0.92213205],\n",
       "        [0.36703837, 0.01045625, 0.75179184],\n",
       "        [0.58809682, 0.41751551, 0.2503576 ]]])"
      ]
     },
     "execution_count": 8,
     "metadata": {},
     "output_type": "execute_result"
    }
   ],
   "source": [
    "y=np.random.random((3,3,3))\n",
    "y"
   ]
  },
  {
   "cell_type": "markdown",
   "metadata": {},
   "source": [
    "# 2.Create a 5x5 matrix with values 1,2,3,4 just below the diagonal"
   ]
  },
  {
   "cell_type": "code",
   "execution_count": 17,
   "metadata": {},
   "outputs": [
    {
     "data": {
      "text/plain": [
       "array([[0, 0, 0, 0, 0],\n",
       "       [1, 0, 0, 0, 0],\n",
       "       [0, 2, 0, 0, 0],\n",
       "       [0, 0, 3, 0, 0],\n",
       "       [0, 0, 0, 4, 0]])"
      ]
     },
     "execution_count": 17,
     "metadata": {},
     "output_type": "execute_result"
    }
   ],
   "source": [
    "z=np.diag(1+np.arange(4),k=-1)   #.diag-->gives acess to the diagonalindices.\n",
    "z"
   ]
  },
  {
   "cell_type": "markdown",
   "metadata": {},
   "source": [
    "# Create a 8x8 matrix and fill it with a checkerboard pattern"
   ]
  },
  {
   "cell_type": "code",
   "execution_count": 25,
   "metadata": {},
   "outputs": [
    {
     "data": {
      "text/plain": [
       "array([[0., 1., 0., 1., 0., 1., 0., 1.],\n",
       "       [1., 0., 1., 0., 1., 0., 1., 0.],\n",
       "       [0., 1., 0., 1., 0., 1., 0., 1.],\n",
       "       [1., 0., 1., 0., 1., 0., 1., 0.],\n",
       "       [0., 1., 0., 1., 0., 1., 0., 1.],\n",
       "       [1., 0., 1., 0., 1., 0., 1., 0.],\n",
       "       [0., 1., 0., 1., 0., 1., 0., 1.],\n",
       "       [1., 0., 1., 0., 1., 0., 1., 0.]])"
      ]
     },
     "execution_count": 25,
     "metadata": {},
     "output_type": "execute_result"
    }
   ],
   "source": [
    "w = np.zeros((8,8))\n",
    "w[1::2 , ::2]=1\n",
    "w[0::2 , 1::2]=1\n",
    "w"
   ]
  },
  {
   "cell_type": "markdown",
   "metadata": {},
   "source": [
    "# Normalize a 5x5 random matrix\n"
   ]
  },
  {
   "cell_type": "code",
   "execution_count": 35,
   "metadata": {},
   "outputs": [
    {
     "data": {
      "text/plain": [
       "array([[0.73630132, 0.62507219, 0.37148442, 1.        , 0.8083469 ],\n",
       "       [0.38750061, 0.01344287, 0.89320015, 0.94330833, 0.43627759],\n",
       "       [0.        , 0.20354418, 0.08060914, 0.46441838, 0.14815426],\n",
       "       [0.2254073 , 0.40260532, 0.66974909, 0.083797  , 0.037186  ],\n",
       "       [0.23283663, 0.83137678, 0.59425317, 0.71725608, 0.99089889]])"
      ]
     },
     "execution_count": 35,
     "metadata": {},
     "output_type": "execute_result"
    }
   ],
   "source": [
    "U=np.random.random((5,5))\n",
    "Umax,Umin =U.max(),U.min()\n",
    "v=(U-Umin)/(Umax-Umin)       # (element in U - min value in U ) / (max in U-min in U)\n",
    "v"
   ]
  },
  {
   "cell_type": "markdown",
   "metadata": {},
   "source": [
    "# 5. How to find common values between two arrays?"
   ]
  },
  {
   "cell_type": "code",
   "execution_count": 31,
   "metadata": {},
   "outputs": [
    {
     "name": "stdout",
     "output_type": "stream",
     "text": [
      "[1 2 3 4 5 6]\n",
      "[2 4 6 8 9 7]\n",
      "common values between 2 arrays : 2\n",
      "common values between 2 arrays : 4\n",
      "common values between 2 arrays : 6\n"
     ]
    }
   ],
   "source": [
    "a=np.array([1,2,3,4,5,6])\n",
    "b=np.array([2,4,6,8,9,7])\n",
    "print(a)\n",
    "print(b)\n",
    "for x in a:\n",
    "    for y in b:\n",
    "        if (x == y ):\n",
    "        \n",
    "            print(\"common values between 2 arrays :\",(x&y))\n"
   ]
  },
  {
   "cell_type": "code",
   "execution_count": 33,
   "metadata": {},
   "outputs": [
    {
     "name": "stdout",
     "output_type": "stream",
     "text": [
      "common values:  [2 4 6]\n"
     ]
    }
   ],
   "source": [
    "a=np.array([1,2,3,4,5,6])\n",
    "b=np.array([2,4,6,8,9,7])\n",
    "print(\"common values: \",np.intersect1d(a,b))  # intersect1d is a function for finding common betwen 2 arrays."
   ]
  },
  {
   "cell_type": "markdown",
   "metadata": {},
   "source": [
    "# 6.How to get the dates of yesterday, today and tomorrow?"
   ]
  },
  {
   "cell_type": "code",
   "execution_count": 38,
   "metadata": {},
   "outputs": [
    {
     "name": "stdout",
     "output_type": "stream",
     "text": [
      "Yesterday 2020-07-28\n",
      "Today 2020-07-29\n",
      "Tomorrow 2020-07-30\n"
     ]
    }
   ],
   "source": [
    "yesterday= np.datetime64('today','D')-np.timedelta64(1,'D')   #datetime64  and timedelta64 are 2 funct to get the dates\n",
    "today =np.datetime64('today','D')\n",
    "tomorrow = np.datetime64('today','D')+np.timedelta64(1,'D')\n",
    "print('Yesterday',yesterday)\n",
    "print('Today',today)\n",
    "print('Tomorrow',tomorrow)"
   ]
  },
  {
   "cell_type": "markdown",
   "metadata": {},
   "source": [
    "# 7. Consider two random array A and B, check if they are equal"
   ]
  },
  {
   "cell_type": "code",
   "execution_count": 44,
   "metadata": {},
   "outputs": [
    {
     "name": "stdout",
     "output_type": "stream",
     "text": [
      "they are equal(TRUE|False):  False\n"
     ]
    }
   ],
   "source": [
    "a1=np.array([1,2,3,4])\n",
    "a2=np.array([2,3,4,5])\n",
    "c=np.allclose(a1,a2)\n",
    "print(\"they are equal(TRUE|False): \",c)"
   ]
  },
  {
   "cell_type": "markdown",
   "metadata": {},
   "source": [
    "# 8.Create random vector of size 10 and replace the maximum value by 0"
   ]
  },
  {
   "cell_type": "code",
   "execution_count": 60,
   "metadata": {},
   "outputs": [
    {
     "name": "stdout",
     "output_type": "stream",
     "text": [
      "[0.45190414 0.08437286 0.5112379  0.71570032 0.66687816 0.73578877\n",
      " 0.76348427 0.90210544 0.86978451 0.50250109]\n",
      "max value is :  0.9021054437194442\n",
      "[0.45190414 0.08437286 0.5112379  0.71570032 0.66687816 0.73578877\n",
      " 0.76348427 0.         0.86978451 0.50250109]\n"
     ]
    }
   ],
   "source": [
    "v1 =np.random.random(10)\n",
    "print(v1)\n",
    "v1max=v1.max()\n",
    "print(\"max value is : \",v1max)    \n",
    "v1[v1.argmax()]=0                #argmax() is the function to find max value .\n",
    "print(v1)"
   ]
  },
  {
   "cell_type": "markdown",
   "metadata": {},
   "source": [
    "# 9. How to print all the values of an array?"
   ]
  },
  {
   "cell_type": "code",
   "execution_count": 70,
   "metadata": {},
   "outputs": [
    {
     "name": "stdout",
     "output_type": "stream",
     "text": [
      "[[1. 1. 1. 1.]\n",
      " [1. 1. 1. 1.]\n",
      " [1. 1. 1. 1.]\n",
      " [1. 1. 1. 1.]]\n"
     ]
    }
   ],
   "source": [
    "\n",
    "z1= np.ones((4,4))\n",
    "print(z1)"
   ]
  },
  {
   "cell_type": "markdown",
   "metadata": {},
   "source": [
    "# 10.Subtract the mean of each row of a matrix"
   ]
  },
  {
   "cell_type": "code",
   "execution_count": 81,
   "metadata": {},
   "outputs": [
    {
     "name": "stdout",
     "output_type": "stream",
     "text": [
      "mean of first row:  5.0\n",
      "mean of Second row:  7.333333333333333\n",
      "mean of Third row:  11.0\n",
      "[[-2.          0.          2.        ]\n",
      " [ 1.66666667  0.66666667 -2.33333333]\n",
      " [ 1.          0.         -1.        ]]\n"
     ]
    }
   ],
   "source": [
    "X=np.array([[3,5,7],[9,8,5],[12,11,10]])\n",
    "x0=X[0,:].mean()\n",
    "print(\"mean of first row: \",x0)\n",
    "x1=X[1,:].mean()\n",
    "print(\"mean of Second row: \",x1)\n",
    "x2=X[2,:].mean()\n",
    "print(\"mean of Third row: \",x2)\n",
    "x4=X-X.mean(axis=1,keepdims=True)\n",
    "print(x4)\n"
   ]
  },
  {
   "cell_type": "markdown",
   "metadata": {},
   "source": [
    "# 11. Consider a given vector, how to add 1 to each element indexed by a second vector"
   ]
  },
  {
   "cell_type": "code",
   "execution_count": 100,
   "metadata": {},
   "outputs": [
    {
     "name": "stdout",
     "output_type": "stream",
     "text": [
      "[1. 1. 1. 1. 1. 1. 1. 1. 1. 1.]\n",
      "[9 8 0 2 6 6 4 0 1 2 2 5 1 6 4 4 2 9 0 9]\n",
      "[4. 3. 5. 1. 4. 2. 4. 1. 2. 4.]\n"
     ]
    }
   ],
   "source": [
    "Z = np.ones(10)\n",
    "print(Z)\n",
    "I = np.random.randint(0,len(Z),20)\n",
    "print(I)\n",
    "Z += np.bincount(I, minlength=len(Z))\n",
    "print(Z)"
   ]
  },
  {
   "cell_type": "markdown",
   "metadata": {},
   "source": [
    "# 12.How to get the diagonal of a dot product?"
   ]
  },
  {
   "cell_type": "code",
   "execution_count": 104,
   "metadata": {},
   "outputs": [
    {
     "name": "stdout",
     "output_type": "stream",
     "text": [
      "L =  [[2 1 1]\n",
      " [1 7 2]\n",
      " [5 0 5]]\n",
      "M =  [[6 6 8]\n",
      " [7 6 1]\n",
      " [8 5 4]]\n",
      "N =  [27 58 60]\n"
     ]
    }
   ],
   "source": [
    "l= np.random.randint(0,9,(3,3))\n",
    "print(\"L = \",l)\n",
    "m= np.random.randint(0,9,(3,3))\n",
    "print(\"M = \",m)\n",
    "n=np.diag(np.dot(l,m))\n",
    "print(\"N = \",n)\n"
   ]
  },
  {
   "cell_type": "markdown",
   "metadata": {},
   "source": [
    "# 13How to find the most frequent value in an array?"
   ]
  },
  {
   "cell_type": "code",
   "execution_count": 108,
   "metadata": {},
   "outputs": [
    {
     "name": "stdout",
     "output_type": "stream",
     "text": [
      "[5 2 0 0 6 4 7 7 4 2 3 3 0 9 5 6 2 6 7 1 3 4 0 4 5 0 3 1 3 4 1 2 5 1 3 2 9\n",
      " 2 0 0 9 7 9 2 5 2 9 6 9 6]\n",
      "rank: 2\n"
     ]
    }
   ],
   "source": [
    "mm = np.random.randint(0,10,50)\n",
    "print (mm)\n",
    "print('rank:', np.bincount(mm).argmax())"
   ]
  },
  {
   "cell_type": "markdown",
   "metadata": {},
   "source": [
    "# 14.How to get the n largest values of an array"
   ]
  },
  {
   "cell_type": "markdown",
   "metadata": {},
   "source": [
    "# 15.How to create a record array from a regular array?\n"
   ]
  },
  {
   "cell_type": "code",
   "execution_count": null,
   "metadata": {},
   "outputs": [],
   "source": []
  },
  {
   "cell_type": "code",
   "execution_count": null,
   "metadata": {},
   "outputs": [],
   "source": []
  }
 ],
 "metadata": {
  "kernelspec": {
   "display_name": "Python 3",
   "language": "python",
   "name": "python3"
  },
  "language_info": {
   "codemirror_mode": {
    "name": "ipython",
    "version": 3
   },
   "file_extension": ".py",
   "mimetype": "text/x-python",
   "name": "python",
   "nbconvert_exporter": "python",
   "pygments_lexer": "ipython3",
   "version": "3.7.6"
  }
 },
 "nbformat": 4,
 "nbformat_minor": 4
}
