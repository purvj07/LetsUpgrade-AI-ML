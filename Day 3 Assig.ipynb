{
 "cells": [
  {
   "cell_type": "markdown",
   "metadata": {},
   "source": [
    "Question 1 :\n",
    "Write a program to subtract two complex numbers in Python.\n",
    "Question 2 :\n",
    "Write a program to find the fourth root of a number.\n",
    "Question 3:\n",
    "Write a program to swap two numbers in Python with the help of a temporary variable.\n",
    "Question 4:\n",
    "Write a program to swap two numbers in Python without using a temporary variable.\n",
    "Question 5:\n",
    "Write a program to convert fahrenheit to kelvin and celsius both.\n",
    "Question 6:\n",
    "Write a program to demonstrate all the available data types in Python. Hint: Use type() function.\n",
    "Question 7:\n",
    "Create a Markdown cell in jupyter and list the steps discussed in the session by Dr. Darshan\n",
    "Ingle sir to create Github profile and upload Githubs Assignment link."
   ]
  },
  {
   "cell_type": "code",
   "execution_count": 1,
   "metadata": {},
   "outputs": [
    {
     "data": {
      "text/plain": [
       "'C:\\\\Users\\\\Pradeep Jain'"
      ]
     },
     "execution_count": 1,
     "metadata": {},
     "output_type": "execute_result"
    }
   ],
   "source": [
    "import os\n",
    "os.getcwd()"
   ]
  },
  {
   "cell_type": "code",
   "execution_count": 5,
   "metadata": {},
   "outputs": [
    {
     "name": "stdout",
     "output_type": "stream",
     "text": [
      "c =  (-1+1j)\n"
     ]
    }
   ],
   "source": [
    "#1 substraction of two complex number\n",
    "a = 3+5j\n",
    "b = 4+4j\n",
    "c = a - b\n",
    "print(\"c = \",c)\n"
   ]
  },
  {
   "cell_type": "code",
   "execution_count": 6,
   "metadata": {},
   "outputs": [
    {
     "name": "stdout",
     "output_type": "stream",
     "text": [
      "256\n",
      "4throot of y:  4.0\n"
     ]
    }
   ],
   "source": [
    "#2 4th root of a number\n",
    "x = 4\n",
    "y = x**4\n",
    "print(y)\n",
    "z = y **(1/4)\n",
    "print(\"4throot of y: \",z)\n"
   ]
  },
  {
   "cell_type": "code",
   "execution_count": 9,
   "metadata": {},
   "outputs": [
    {
     "name": "stdout",
     "output_type": "stream",
     "text": [
      "before swap m = 4\n",
      "before swap n = 9\n",
      "after swap m =  9\n",
      "after swap n =  4\n"
     ]
    }
   ],
   "source": [
    "#3/4 swaping of two numbers\n",
    "m = 4\n",
    "print(\"before swap m =\",m)\n",
    "n = 9\n",
    "print(\"before swap n =\",n)\n",
    "m,n = n,m\n",
    "print(\"after swap m = \",m)\n",
    "print(\"after swap n = \",n)\n",
    "\n"
   ]
  },
  {
   "cell_type": "code",
   "execution_count": 13,
   "metadata": {},
   "outputs": [
    {
     "name": "stdout",
     "output_type": "stream",
     "text": [
      "100.0\n",
      "122.0\n",
      "305.3722222222222\n"
     ]
    }
   ],
   "source": [
    "#5 fahrenheit to celsius and vice versa\n",
    "celsius = (212 -32)*5/9\n",
    "fahrenheit = (50 * 9/5)+32\n",
    "print(celsius)\n",
    "print(fahrenheit)\n",
    "\n",
    "#5 fahrenheit to kelvin\n",
    "kelvin = (90 - 32 )*5/9 +273.15\n",
    "print(kelvin)"
   ]
  },
  {
   "cell_type": "code",
   "execution_count": 24,
   "metadata": {},
   "outputs": [
    {
     "name": "stdout",
     "output_type": "stream",
     "text": [
      "<class 'str'>\n",
      "<class 'int'>\n",
      "<class 'float'>\n",
      "<class 'bool'>\n",
      "<class 'complex'>\n",
      "<class 'list'>\n",
      "<class 'tuple'>\n",
      "<class 'dict'>\n"
     ]
    }
   ],
   "source": [
    "#6 available data types\n",
    "\n",
    "str1=\"hello\"\n",
    "print(type(str1))\n",
    "num = 10\n",
    "print(type(num))\n",
    "num1 = 10.11\n",
    "print(type(num1))\n",
    "con = True\n",
    "print(type(con))\n",
    "comp = 5+6j\n",
    "print(type(comp))\n",
    "l = [1,3,4,5]\n",
    "print(type(l))\n",
    "t = (2,4,5,6)\n",
    "print(type(t))\n",
    "d = {1:\"one\",2:\"two\"}\n",
    "print(type(d))"
   ]
  },
  {
   "cell_type": "markdown",
   "metadata": {},
   "source": [
    "#steps for assg submission\n",
    "Create a Github public repository and name it LetsUpgrade AI/ML\n",
    "Upload the files/solution in the repository in day wise manner.\n",
    "Copy the URL of the Folder of that day and paste in the Assignment Submission Form (Google Form)"
   ]
  }
 ],
 "metadata": {
  "kernelspec": {
   "display_name": "Python 3",
   "language": "python",
   "name": "python3"
  },
  "language_info": {
   "codemirror_mode": {
    "name": "ipython",
    "version": 3
   },
   "file_extension": ".py",
   "mimetype": "text/x-python",
   "name": "python",
   "nbconvert_exporter": "python",
   "pygments_lexer": "ipython3",
   "version": "3.7.6"
  }
 },
 "nbformat": 4,
 "nbformat_minor": 4
}
